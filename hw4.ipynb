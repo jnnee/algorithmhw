{
 "cells": [
  {
   "cell_type": "markdown",
   "metadata": {},
   "source": [
    "## algorithm design and anlysis-2025 spring  homework 4\n",
    "**Deadline**：2025.5.14\n",
    "\n",
    "**name**:\n",
    "\n",
    "\n",
    "note：\n",
    "---\n",
    "1. 带有\\*的题目，申请免上课的同学，必须完成，其他同学选作；\n",
    "2. 请独立完成，如求助了他人或者大模型，请著明，并且不可省略算法分析部分；\n",
    "4. 如若作答有雷同，全部取消成绩；\n",
    "3. 需要书面作答的题目，可以通过引用图片的形式添加，但是注意上传项目时包含所引用的图片的源文件；\n",
    "4. $log_n$ 默认表示$log_2{n}$;"
   ]
  },
  {
   "cell_type": "markdown",
   "metadata": {},
   "source": [
    "## 问题 1 \n",
    "**最小生成树（Minimum Spanning Tree）**\n",
    "\n",
    "设  **G**  为一个带权重的连通无向图，且所有边的权重均不相等。令$e_i$ 为权重第 $i$ 小的边。最小生成树（MST）是否必须包含 $e_1$ ? 同理，是否必须包含 $e_2$ 和 $e_3$ ? 若必须包含，请给出证明；否则，请构造反例。需从基本原理论证，不能依赖割引理(cut lemma) 或 Prim/Kruskal算法的正确性。\n"
   ]
  },
  {
   "cell_type": "markdown",
   "metadata": {},
   "source": [
    "answer:\n",
    "权重第1小的边（e1）必须包含在 MST 中。\n",
    "证明：假设存在一个 MST 不包含e1。将e1加入 MST 中会形成环。由于e1是权重最小的边，该环中必存在一条权重大于e1的边。删除这条边后，生成树的总权重更小，与原 MST 的最小性矛盾。因此，e1必须包含在 MST 中。\n",
    "\n",
    "权重第2小的边（e2）必须包含在 MST 中。\n",
    "证明：\n",
    "假设存在一个 MST 不包含 e2。在 MST 中，e2连接的两个顶点之间已有一条路径，该路径上的所有边权重均小于e2。否则，若路径上存在权重大于e2的边，则将e2加入并删除该边会得到更小的总权重，矛盾。\n",
    "由于只有e1的权重小于e2，路径上必须包含e1。但e1已连接部分顶点，无法覆盖所有情况，矛盾。因此，e2必须包含。\n",
    "\n",
    "权重第3小的边（e3）不一定包含在 MST 中。\n",
    "反例：\n",
    "构造一个三角形图，边权分别为 1（第 1 小）、2（第 2 小）、3（第 3 小）。MST 包含边 1 和 2，排除边 3。因此，第 3 小的边不在 MST 中。"
   ]
  },
  {
   "cell_type": "markdown",
   "metadata": {},
   "source": [
    "## 问题 2 \n",
    "**瓶颈生成树（Bottleneck Spanning Tree）**\n",
    "\n",
    "带有权重的无向图 $G(V,E,w)$ 的瓶颈生成树，表现为：在所有生成树中，最大权重边的权重值最小。即，BST $T$ 最小化瓶颈损失 $c(T)=max_{e \\in T}{w(e)}$。\n",
    "\n",
    "1. 证明 $G$ 的每一个最小生成树（MST）都是瓶颈生成树（BST）\n",
    "2. 设计一个线性时间复杂度的算法：， 对于一个图 $G(V,E,w)$ 和一个整数 $b$，判断图 $ G$ 是否存在一个瓶颈生成树，其最大权重边的权重不超过 $b$，分析算法设计思路，并基于python编程实现。\n",
    "3. 设计一个线性时间复杂度的算法：对于给定的图 $G(V,E,w)$，找到其瓶颈生成树，分析算法设计思路，并基于python编程实现。"
   ]
  },
  {
   "cell_type": "markdown",
   "metadata": {},
   "source": [
    "idea：\n",
    "1.\n",
    "证明：假设存在一个 MST T，其最大边权重为 w，且存在另一个生成树 T'，其最大边权重 w' < w。如果 T' 存在，则说明在构造 T 时，可以用更小的边替换 T 中的某些边，从而得到更小的总权重，这与 T 是 MST 矛盾。因此，每个 MST 的最大边权重必然是所有生成树中最小的，即每个 MST 都是 BST。"
   ]
  },
  {
   "cell_type": "code",
   "execution_count": null,
   "metadata": {},
   "outputs": [],
   "source": [
    "\"\"\"问题二：\n",
    "算法思路：\n",
    "移除所有权重 > k 的边。\n",
    "检查剩余图是否连通。若连通，则存在这样的 BST；否则不存在，时间复杂度：O(V+E)\n",
    "\"\"\"\n",
    "\"\"\"问题三：\n",
    "算法思路：\n",
    "使用 Kruskal 算法，按边权重升序添加边，直到图连通。\n",
    "最后添加的边的权重即为瓶颈值。O(ElogE)\n",
    "\"\"\"\n",
    "# add your code here\n",
    "class UnionFind:\n",
    "    def __init__(self, size):\n",
    "        self.parent = list(range(size))\n",
    "\n",
    "    def find(self, x):\n",
    "        if self.parent[x] != x:\n",
    "            self.parent[x] = self.find(self.parent[x])  # 路径压缩\n",
    "        return self.parent[x]\n",
    "\n",
    "    def union(self, x, y):\n",
    "        fx, fy = self.find(x), self.find(y)\n",
    "        if fx != fy:\n",
    "            self.parent[fy] = fx\n",
    "            return True\n",
    "        return False\n",
    "\n",
    "    def connected(self):\n",
    "        root = self.find(0)\n",
    "        return all(self.find(i) == root for i in range(len(self.parent)))\n",
    "\n",
    "def has_bottleneck_spanning_tree(edges, V, k):\n",
    "    uf = UnionFind(V)\n",
    "    for u, v, w in edges:\n",
    "        if w <= k:\n",
    "            uf.union(u, v)\n",
    "    return uf.connected()\n",
    "\n",
    "def find_bottleneck_spanning_tree(edges, V):\n",
    "    edges.sort(key=lambda x: x[2])  # 按权重排序\n",
    "    uf = UnionFind(V)\n",
    "    max_weight = 0\n",
    "\n",
    "    for u, v, w in edges:\n",
    "        if uf.find(u) != uf.find(v):\n",
    "            uf.union(u, v)\n",
    "            max_weight = w\n",
    "            if uf.connected():\n",
    "                break\n",
    "\n",
    "    return max_weight\n",
    "\n",
    "# algorithm of the liear time complexity"
   ]
  },
  {
   "cell_type": "code",
   "execution_count": null,
   "outputs": [],
   "source": [],
   "metadata": {
    "collapsed": false
   }
  },
  {
   "cell_type": "markdown",
   "metadata": {},
   "source": [
    "## 问题 3\n",
    "\n",
    "**道路网（Road Network）**\n",
    "\n",
    "假设有一个以图 $ G(V, E, l) $ 表示的道路网络，连接了一组城市 $ V $。我们假设该网络是有向的，并且每条道路 $(u, v) \\in E$ 都有一个非负的长度 $ l(u, v) $。一条新的道路即将被建造，因此有一个列表 $ E' $ 包含它可以连接的城市对。每对 $(u, v) \\in E'$ 都有一个对应的长度 $ l'(u, v) $。我们希望选择一对城市，使得两个城市 $ s, t \\in V $ 之间的距离减少最大。请为此问题编写一个高效的算法，并详细解释算法的正确性和复杂度。\n"
   ]
  },
  {
   "cell_type": "code",
   "execution_count": null,
   "outputs": [],
   "source": [
    "\"\"\"算法思路:\n",
    "1.使用Dijkstra算法计算每个节点到其他所有节点的最短距离，保存为二维数组d，其中d[s][t]表示原图中s到t的最短距离。时间复杂度为O(n(m+nlogn))\n",
    "2.遍历候选边并计算最大缩短量O(kn2)\n",
    "对于每条候选边(u, v)，计算所有可能的s和t的缩短量，找到所有s和t中的最大值，作为该边的贡献。\n",
    "3.选择最优候选边，比较所有候选边的最大缩短量，选择缩短量最大的边。\n",
    "总时间复杂度：O(n(m+nlogn)+kn2)。\"\"\"\n",
    "import heapq\n",
    "\n",
    "def dijkstra(graph, start, n):\n",
    "    dist = [float('inf')] * n\n",
    "    dist[start] = 0\n",
    "    heap = [(0, start)]\n",
    "    while heap:\n",
    "        current_dist, u = heapq.heappop(heap)\n",
    "        if current_dist > dist[u]:\n",
    "            continue\n",
    "        for v, w in graph[u]:\n",
    "            if dist[v] > dist[u] + w:\n",
    "                dist[v] = dist[u] + w\n",
    "                heapq.heappush(heap, (dist[v], v))\n",
    "    return dist\n",
    "\n",
    "def find_optimal_road(n, graph, P):\n",
    "    # 预处理所有点对最短路径\n",
    "    d = []\n",
    "    for s in range(n):\n",
    "        d.append(dijkstra(graph, s, n))\n",
    "\n",
    "    max_reduction = -float('inf')\n",
    "    best_edge = None\n",
    "\n",
    "    for (u, v, l) in P:\n",
    "        current_max = 0\n",
    "        for s in range(n):\n",
    "            for t in range(n):\n",
    "                original = d[s][t]\n",
    "                new_path = d[s][u] + l + d[v][t]\n",
    "                if new_path < original:\n",
    "                    reduction = original - new_path\n",
    "                    if reduction > current_max:\n",
    "                        current_max = reduction\n",
    "        if current_max > max_reduction:\n",
    "            max_reduction = current_max\n",
    "            best_edge = (u, v, l)\n",
    "\n",
    "    return best_edge, max_reduction\n"
   ],
   "metadata": {
    "collapsed": false
   }
  },
  {
   "cell_type": "markdown",
   "metadata": {},
   "source": [
    "## 问题 4\n",
    "\n",
    "**逃离问题**\n",
    "\n",
    "一个 $ n \\times n $ 的网格是一个无向图，由 $ n $ 行和 $ n $ 列的顶点组成，如下图所示。我们用 $(i,j)$ 表示第 $ i $ 行和第 $ j $ 列的顶点。除了边界顶点，网格中的所有顶点都有四个邻居，即满足 $ i = 1, i = n, j = 1 $ 或 $ j = n $ 的点 $(i,j)$。\n",
    "\n",
    "给定网格中的 $ m \\leq n^2 $ 个起点 $(x_1, y_1), (x_2, y_2), \\cdots , (x_m, y_m)$，逃离问题是确定是否存在 $ m $ 条顶点不相交的路径（即路径之间不相交），从这些起点到边界上的任意 $ m $ 个不同点。例如，图1中的网格存在逃离。\n",
    "\n",
    "(1) 该问题可以看作是一个最大流问题。考虑一个流网络，其中顶点和边都有容量。也就是说，进入任何给定顶点的总正流量受到容量限制。证明在具有边和顶点容量的网络中确定最大流可以简化为在具有可比大小的普通流网络上的最大流问题。更准确地说，你需要将一个具有顶点和边容量的网络 $ G = (V,E) $ 转换为另一个仅具有边容量的网络 $ G' = (V', E') $，使得两个网络上的最大流相同，并且你构建的新网络具有 $ V' = O(V) $ 个顶点和 $ E' = O(E) $ 条边。你可以假设网络是连通的。\n",
    "\n",
    "(2) 描述一个解决逃离问题的高效算法，并分析其运行时间。\n",
    "\n",
    "\n",
    "<div align=\"center\"> <img alt=\"图片\" src=\"./fig/escepe-p.png\"> </div>\n",
    "<center> 图2. 逃脱问题网格，起始顶点为黑色，其他网格顶点为白色</center>"
   ]
  },
  {
   "cell_type": "markdown",
   "metadata": {},
   "source": [
    "idea："
   ]
  }
 ],
 "metadata": {
  "language_info": {
   "name": "python"
  }
 },
 "nbformat": 4,
 "nbformat_minor": 2
}
