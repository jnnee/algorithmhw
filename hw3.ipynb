{
 "cells": [
  {
   "cell_type": "markdown",
   "metadata": {},
   "source": [
    "## algorithm design and anlysis-2025 spring  homework 3\n",
    "**Deadline**：2025.5.14\n",
    "\n",
    "**name**:\n",
    "\n",
    "\n",
    "note：\n",
    "---\n",
    "1. 带有\\*的题目，申请免上课的同学，必须完成，其他同学选作；\n",
    "2. 请独立完成，如求助了他人或者大模型，请著明，并且不可省略算法分析部分；\n",
    "4. 如若作答有雷同，全部取消成绩；\n",
    "3. 需要书面作答的题目，可以通过引用图片的形式添加，但是注意上传项目时包含所引用的图片的源文件；\n",
    "4. $log_n$ 默认表示$log_2{n}$;"
   ]
  },
  {
   "cell_type": "markdown",
   "metadata": {},
   "source": [
    "## 问题 1  \n",
    "\n",
    "请证明基于比较的排序算法计算复杂度下界为$\\Omega(nlogn)$"
   ]
  },
  {
   "cell_type": "markdown",
   "metadata": {},
   "source": [
    "you can refer a handwritten picture, pleas upload the picture in /fig/xxx.png\n",
    "answer：![answer](./fig/hw3q1.jpg)"
   ]
  },
  {
   "cell_type": "markdown",
   "metadata": {},
   "source": [
    "## 问题 2 \n",
    "\n",
    "构建二叉搜索树\n",
    "\n",
    "> 1. 给定一个数组 [48, 33, 49, 47, 42, 46, 32], 构建一个二叉搜索树存储这些数据，请**绘制**所构建的**二叉搜索树**（标明结点的值）。\n",
    "> 2. 从第1问的二叉搜索树中删除33，请**绘制**删除33后的**二叉搜索树**（标明结点的值）\n",
    "\n",
    "- 推荐使用graphviz包绘制树的结构"
   ]
  },
  {
   "cell_type": "markdown",
   "metadata": {},
   "source": [
    "you can refer a handwritten picture, pleas upload the picture in /fig/xxx.png\n",
    "answer：![answer](./fig/hw3q2.jpg)"
   ]
  },
  {
   "cell_type": "markdown",
   "metadata": {},
   "source": [
    "## 问题 3 \n",
    "\n",
    "> 下面是九门课程的开始和结束时间:\n",
    ">\n",
    "> [(9:00,12:30), (11:00,14:00), (13:00, 14:30), (9:00,10:30),(13:00, 14:30),(14:00,16:30), (15:00,16:30), (15:00,16:30), (9:00,10:30)]\n",
    ">\n",
    "> 请使用贪婪算法为这九门课分配教室，要求在同一天内安排这些课，并且每个教室同一时间只能安排一门课。\n",
    "\n",
    "**请问最少需要几间教室，罗列出每个教室安排的课程**"
   ]
  },
  {
   "cell_type": "markdown",
   "metadata": {},
   "source": [
    "idea："
   ]
  },
  {
   "cell_type": "code",
   "execution_count": 4,
   "metadata": {
    "vscode": {
     "languageId": "plaintext"
    },
    "ExecuteTime": {
     "end_time": "2025-05-08T03:03:18.880219700Z",
     "start_time": "2025-05-08T03:03:18.865485300Z"
    }
   },
   "outputs": [
    {
     "name": "stdout",
     "output_type": "stream",
     "text": [
      "最少需要 3 间教室。各教室的课程安排如下：\n",
      "\n",
      "教室1:\n",
      "课程4（9:00-10:30）\n",
      "课程2（11:00-14:00）\n",
      "课程6（14:00-16:30）\n",
      "\n",
      "教室2:\n",
      "课程9（9:00-10:30）\n",
      "课程3（13:00-14:30）\n",
      "课程7（15:00-16:30）\n",
      "\n",
      "教室3:\n",
      "课程1（9:00-12:30）\n",
      "课程5（13:00-14:30）\n",
      "课程8（15:00-16:30）\n",
      "\n"
     ]
    }
   ],
   "source": [
    "\"\"\"算法思路：\n",
    "将课程时间从字符串格式转换为分钟数以便比较。按开始时间升序排列，若开始时间相同则按结束时间升序，便于安排教室。\n",
    "建立一个教室列表，每个教室记录其当前结束时间和已安排的课程id。\n",
    "对于每个课程，遍历现有教室，找到第一个可用的（结束时间 ≤ 课程开始时间）,若无可用教室，创建新教室。\n",
    "\"\"\"\n",
    "import heapq\n",
    "\n",
    "def time_to_minutes(t):\n",
    "    hours, minutes = map(int, t.split(':'))\n",
    "    return hours * 60 + minutes\n",
    "\n",
    "def minutes_to_time(m):\n",
    "    return f\"{m // 60}:{m % 60:02d}\"\n",
    "\n",
    "# 输入课程（已编号为1-9）\n",
    "courses = [\n",
    "    (\"9:00\", \"12:30\"),  # 课程1\n",
    "    (\"11:00\", \"14:00\"),  # 课程2\n",
    "    (\"13:00\", \"14:30\"),  # 课程3\n",
    "    (\"9:00\", \"10:30\"),  # 课程4\n",
    "    (\"13:00\", \"14:30\"),  # 课程5\n",
    "    (\"14:00\", \"16:30\"),  # 课程6\n",
    "    (\"15:00\", \"16:30\"),  # 课程7\n",
    "    (\"15:00\", \"16:30\"),  # 课程8\n",
    "    (\"9:00\", \"10:30\"),  # 课程9\n",
    "]\n",
    "\n",
    "# 将课程转换为（开始时间, 结束时间, 课程ID）格式\n",
    "course_list = []\n",
    "for idx, (start, end) in enumerate(courses, 1):\n",
    "    course_list.append((\n",
    "        time_to_minutes(start),\n",
    "        time_to_minutes(end),\n",
    "        idx\n",
    "    ))\n",
    "\n",
    "# 按开始时间排序（若开始时间相同，按结束时间排序）\n",
    "sorted_courses = sorted(course_list, key=lambda x: (x[0], x[1]))\n",
    "\n",
    "# 分配教室\n",
    "classrooms = []\n",
    "for course in sorted_courses:\n",
    "    start, end, cid = course\n",
    "    allocated = False\n",
    "    # 遍历现有教室，寻找第一个可用的\n",
    "    for room in classrooms:\n",
    "        if room[\"end_time\"] <= start:\n",
    "            room[\"courses\"].append(cid)\n",
    "            room[\"end_time\"] = end\n",
    "            allocated = True\n",
    "            break\n",
    "    # 若无可用教室，创建新教室\n",
    "    if not allocated:\n",
    "        classrooms.append({\n",
    "            \"end_time\": end,\n",
    "            \"courses\": [cid]\n",
    "        })\n",
    "\n",
    "# 输出结果\n",
    "print(f\"最少需要 {len(classrooms)} 间教室。各教室的课程安排如下：\\n\")\n",
    "for i, room in enumerate(classrooms, 1):\n",
    "    print(f\"教室{i}:\")\n",
    "    for cid in room[\"courses\"]:\n",
    "        # 根据课程ID获取原始时间\n",
    "        original_course = courses[cid-1]\n",
    "        start_str = original_course[0]\n",
    "        end_str = original_course[1]\n",
    "        print(f\"课程{cid}（{start_str}-{end_str}）\")\n",
    "    print()"
   ]
  },
  {
   "cell_type": "markdown",
   "metadata": {},
   "source": [
    "## 问题 4 \n",
    "\n",
    "> 爬楼梯问题：假设爬楼梯时你每次只能爬一阶或者爬两阶，问爬上n阶的楼梯，你一共有多少种方法\n",
    "\n",
    "请设计算法完成该问题，分析算法设计思路，计算时间复杂度，并基于python编程实现"
   ]
  },
  {
   "cell_type": "markdown",
   "metadata": {},
   "source": [
    "idea："
   ]
  },
  {
   "cell_type": "code",
   "execution_count": 2,
   "metadata": {
    "ExecuteTime": {
     "end_time": "2025-05-08T02:36:45.062756700Z",
     "start_time": "2025-05-08T02:36:45.013713100Z"
    }
   },
   "outputs": [
    {
     "name": "stdout",
     "output_type": "stream",
     "text": [
      "8\n"
     ]
    }
   ],
   "source": [
    "# add your code here\n",
    "\"\"\"算法思路：爬楼梯问题可以通过动态规划来解决，因为每一步的方法数取决于前两步的方法数之和。到达第n阶楼梯的方法数等于再爬一阶（到达第n-1阶）加上再爬两阶（到达第n-2阶）的方法数之和。\n",
    "\"\"\"\n",
    "def climb(n):\n",
    "    if n == 1:\n",
    "        return 1\n",
    "    if n == 2:\n",
    "        return 2\n",
    "    a, b = 1, 2  # 初始化前两个台阶的方法数，a 表示 到达前前阶楼梯的方法数（即到达第 n-2 阶的方法数），b变为到达第 n-1 阶的方法数\n",
    "    for _ in range(3, n + 1):\n",
    "        a, b = b, a + b  # 更新a和b，\n",
    "    return b\n",
    "\n",
    "# 测试示例\n",
    "print(climb(5))\n",
    "# your algorithm time complexity is:\n",
    "\"\"\"\"时间复杂度为O(n)\"\"\""
   ]
  },
  {
   "cell_type": "markdown",
   "metadata": {},
   "source": [
    "## 问题 5 \n",
    "\n",
    "> 0-1背包问题：现在有4块大理石，每个大理石对应的重量和价值使用一个元组表示, 即（重量，价值），4块大理石的重量和价值为：[(5,10), (4,40), (6,30), (3, 50)], 假设你有一辆最大承重为9的小推车，请问使用这个小推车装大理石的最大价值为多少\n",
    "\n",
    "请设计一个算法解决该问题，分析算法设计思路，计算时间复杂度，并基于python编程实现"
   ]
  },
  {
   "cell_type": "markdown",
   "metadata": {},
   "source": [
    "idea："
   ]
  },
  {
   "cell_type": "code",
   "execution_count": 3,
   "metadata": {
    "ExecuteTime": {
     "end_time": "2025-05-08T02:53:21.215531200Z",
     "start_time": "2025-05-08T02:53:21.208078Z"
    }
   },
   "outputs": [
    {
     "name": "stdout",
     "output_type": "stream",
     "text": [
      "最大价值为: 90\n"
     ]
    }
   ],
   "source": [
    "# add your code here\n",
    "def bag(capacity, items):\n",
    "    dp = [0] * (capacity + 1)  # 初始化dp数组，长度为capacity + 1，初始值为0，表示承重为w时的最大价值\n",
    "    for weight, value in items:\n",
    "        # 从后向前遍历，避免覆盖未处理的值\n",
    "        for w in range(capacity, weight - 1, -1):\n",
    "            dp[w] = max(dp[w], dp[w - weight] + value)\n",
    "    return dp[capacity]\n",
    "\n",
    "# 输入数据\n",
    "stones = [(5, 10), (4, 40), (6, 30), (3, 50)]\n",
    "max_weight = 9\n",
    "\n",
    "# 计算最大价值\n",
    "max_value = bag(max_weight, stones)\n",
    "print(\"最大价值为:\", max_value)\n",
    "# your algorithm time complexity is:\n",
    "\"\"\"\"时间复杂度为O(n)\"\"\""
   ]
  },
  {
   "cell_type": "markdown",
   "metadata": {},
   "source": [
    "## 问题 6 \n",
    "给定 `n` 个非负整数表示每个宽度为 `1` 的柱子的高度图，计算按此排列的柱子，下雨之后能接多少雨水。\n",
    "\n",
    "\n",
    "\n",
    "<div style=\"text-align:center;width:800px;\"> <img alt=\"\" src=\"./fig/hw3q6.png\"> </div>\n",
    "\n",
    "请分析算法设计思路，计算时间复杂度，并基于python编程实现"
   ]
  },
  {
   "cell_type": "markdown",
   "metadata": {},
   "source": [
    "idea："
   ]
  },
  {
   "cell_type": "code",
   "execution_count": 6,
   "metadata": {
    "ExecuteTime": {
     "end_time": "2025-05-08T03:21:18.619401500Z",
     "start_time": "2025-05-08T03:21:18.609960100Z"
    }
   },
   "outputs": [
    {
     "name": "stdout",
     "output_type": "stream",
     "text": [
      "9\n"
     ]
    },
    {
     "data": {
      "text/plain": "'\"时间复杂度为O(n)'"
     },
     "execution_count": 6,
     "metadata": {},
     "output_type": "execute_result"
    }
   ],
   "source": [
    "# add your code here\n",
    "\"\"\"使用栈方法计算，每一列的黑柱子数入栈，每次遇到比栈顶元素高的柱子时，可以形成一个凹槽，通过单调减少的值，计算积水量\"\"\"\n",
    "def trap(height):\n",
    "    stack = []\n",
    "    result = 0\n",
    "    for i in range(len(height)):\n",
    "        while stack and height[i] > height[stack[-1]]:\n",
    "            bottom = stack.pop()\n",
    "            if not stack:\n",
    "                break\n",
    "            left = stack[-1]\n",
    "            distance = i - left - 1\n",
    "            bounded_height = min(height[left], height[i]) - height[bottom]\n",
    "            result += distance * bounded_height\n",
    "        stack.append(i)\n",
    "    return result\n",
    "\n",
    "\n",
    "print(trap([4,2,0,3,2,5]))\n",
    "# your algorithm time complexity is:\n",
    "\"\"\"\"时间复杂度为O(n)\"\"\""
   ]
  },
  {
   "cell_type": "markdown",
   "metadata": {},
   "source": [
    "## 问题 7 \n",
    "\n",
    "**股票投资组合优化**： 假设你是一位投资者，想要在不同的股票中分配你的资金，以最大化你的投资回报。每只股票都有不同的预期收益率和风险。你的目标是选择一些股票，使得总投资金额不超过你的预算，并且预期收益最大化。\n",
    "\n",
    "在这个情况下，你可以将每只股票视为一个“物品”，其重量为投资金额，价值为预期收益率。然后，你可以使用分级背包问题的方法来选择部分股票，以便在预算内获得最大的预期收益。\n",
    "\n",
    "以下是一个简化的例子：\n",
    "\n",
    "假设你有以下三只股票可供选择：\n",
    "\n",
    "1. 股票 A：投资金额 5000 美元，预期收益率 10%\n",
    "2. 股票 B：投资金额 3000 美元，预期收益率 8%\n",
    "3. 股票 C：投资金额 2000 美元，预期收益率 12%\n",
    "\n",
    "请设计算法找到最优投资方案，分析算法设计思路，计算时间复杂度，并基于python编程实现"
   ]
  },
  {
   "cell_type": "markdown",
   "metadata": {},
   "source": [
    "idea："
   ]
  },
  {
   "cell_type": "code",
   "execution_count": 11,
   "metadata": {
    "ExecuteTime": {
     "end_time": "2025-05-08T06:25:01.978665400Z",
     "start_time": "2025-05-08T06:25:01.933280300Z"
    }
   },
   "outputs": [
    {
     "name": "stdout",
     "output_type": "stream",
     "text": [
      "投资股票: [5000, 3000]\n",
      "最大价值为: 740.0\n"
     ]
    }
   ],
   "source": [
    "# add your code here\n",
    "\"\"\"背包问题：\n",
    "将每个股票转化为物品的重量（投资额）和价值（投资额×收益率）。\n",
    "使用动态规划求解0-1背包问题。\n",
    "回溯找到选中的股票。\"\"\"\n",
    "def maxProfit(stocks,budget):\n",
    "    dp = [0] * (budget+ 1)  # 初始化dp数组，bugest + 1，初始值为0\n",
    "    selected = [[] for _ in range(budget + 1)]  # 记录每个预算下的选择\n",
    "    for i in range(len(stocks)):\n",
    "        invest = stocks[i][0]\n",
    "        value = stocks[i][1]\n",
    "        # 从后向前遍历，避免覆盖未处理的值\n",
    "        for w in range(bugest, invest - 1, -1):\n",
    "              if dp[w] < dp[w - invest] + value:\n",
    "                dp[w] = dp[w - invest] + value\n",
    "                selected[w] = selected[w - invest] + [stocks[i][0]]  # 更新选择路径\n",
    "    return dp[bugest], selected[bugest]\n",
    "\n",
    "# 输入数据\n",
    "stocks = [(5000, 5000*0.1), (3000, 3000*0.08), (2000, 2000*0.12)]\n",
    "bugest = 8000\n",
    "\n",
    "# 计算最大价值\n",
    "max_value,selected = maxProfit(stocks, bugest)\n",
    "#投资的股票\n",
    "print(\"投资股票:\",selected)\n",
    "print(\"最大价值为:\", max_value)\n",
    "# your algorithm time complexity is:\n",
    "\"\"\"\"时间复杂度为O(n)\"\"\""
   ]
  },
  {
   "cell_type": "markdown",
   "metadata": {},
   "source": [
    "## 问题 8\n",
    "\n",
    "给你二叉搜索树的根节点 root ，该树中的恰好两个节点的值被错误地交换。请在不改变其结构的情况下，恢复这棵树 。设计算法解决该问题，分析算法设计思路，计算时间复杂度，并基于python编程实现\n",
    "\n",
    "e.g.:\n",
    "---\n",
    "1.\n",
    "\n",
    "<div style=\"text-align:center;width:200px;\"> <img alt=\"\" src=\"./fig/hw3q9-1.jpg\"> </div>\n",
    "输入：root = [1,3,null,null,2]， 输出为：[3,1,null,null,2]， \n",
    "\n",
    "解释：3 不能是 1 的左孩子，因为 3 > 1 。交换 1 和 3 使二叉搜索树有效。\n",
    "\n",
    "2.\n",
    "\n",
    " <div style=\"text-align:center;width:200px;\"> <img alt=\"\" src=\"./fig/hw3q9-1.jpg\"> </div>\n",
    "输入： root=[3,1,4,null,null,2]， 输出为：[2,1,4,null,null,3]\n",
    "\n",
    "解释：2 不能在 3 的右子树中，因为 2 < 3 。交换 2 和 3 使二叉搜索树有效。"
   ]
  },
  {
   "cell_type": "markdown",
   "metadata": {},
   "source": [
    "idea：\n"
   ]
  },
  {
   "cell_type": "code",
   "execution_count": null,
   "metadata": {},
   "outputs": [],
   "source": [
    "# add your code here\n",
    "\"\"\"在二叉搜索树（BST）中，中序遍历（左-根-右）的严格递增性是其核心性质。当两个节点被错误交换时，中序遍历的结果会破坏这种递增性，形成逆序对。直接遍历（如前序、后序或其他方式）无法利用这一全局有序特性，导致无法高效定位错误节点\"\"\"\n",
    "\"\"\"算法思路：\n",
    "中序遍历：遍历过程中记录前驱节点 prev。\n",
    "检测逆序对：当当前节点值小于 prev 的值时，标记可能的错误节点。\n",
    "\"\"\"\n",
    "class TreeNode:\n",
    "    def __init__(self, val=0, left=None, right=None):\n",
    "        self.val = val\n",
    "        self.left = left\n",
    "        self.right = right\n",
    "\n",
    "class Solution:\n",
    "    def recoverTree(self, root: TreeNode) -> None:\n",
    "        self.prev = None        # 记录中序遍历的前驱节点\n",
    "        self.first = None       # 第一个错误节点\n",
    "        self.second = None      # 第二个错误节点\n",
    "\n",
    "        def inorder(node):\n",
    "            if not node:\n",
    "                return\n",
    "            # 遍历左子树\n",
    "            inorder(node.left)\n",
    "            # 处理当前节点\n",
    "            if self.prev and node.val < self.prev.val:\n",
    "                if not self.first:    # 第一次发现逆序\n",
    "                    self.first = self.prev\n",
    "                self.second = node   # 第二次发现逆序时更新\n",
    "            self.prev = node         # 更新前驱节点\n",
    "            # 遍历右子树\n",
    "            inorder(node.right)\n",
    "\n",
    "        inorder(root)                # 执行中序遍历\n",
    "        # 交换两个错误节点的值\n",
    "        self.first.val, self.second.val = self.second.val, self.first.val\n",
    "\n",
    "# 测试示例\n",
    "def build_tree(nodes):\n",
    "    if not nodes:\n",
    "        return None\n",
    "    root = TreeNode(nodes[0])\n",
    "    queue = [root]\n",
    "    index = 1\n",
    "    while queue and index < len(nodes):\n",
    "        node = queue.pop(0)\n",
    "        if nodes[index] is not None:\n",
    "            node.left = TreeNode(nodes[index])\n",
    "            queue.append(node.left)\n",
    "        index += 1\n",
    "        if index < len(nodes) and nodes[index] is not None:\n",
    "            node.right = TreeNode(nodes[index])\n",
    "            queue.append(node.right)\n",
    "        index += 1\n",
    "    return root\n",
    "\n",
    "def print_tree(root):\n",
    "    if not root:\n",
    "        return []\n",
    "    result = []\n",
    "    queue = [root]\n",
    "    while queue:\n",
    "        node = queue.pop(0)\n",
    "        result.append(node.val if node else None)\n",
    "        if node:\n",
    "            queue.append(node.left)\n",
    "            queue.append(node.right)\n",
    "    while result and result[-1] is None:\n",
    "        result.pop()\n",
    "    return result\n",
    "\n",
    "# 示例1\n",
    "root1 = build_tree([1, 3, None, None, 2])\n",
    "Solution().recoverTree(root1)\n",
    "print(print_tree(root1))\n",
    "\n",
    "# your algorithm time complexity is:\"\"\"\"时间复杂度为O(n)\"\"\""
   ]
  },
  {
   "cell_type": "markdown",
   "metadata": {},
   "source": [
    "## 问题 9  \n",
    "\n",
    "给你一个二叉树的根节点 root ，树中每个节点都存放有一个 0 到 9 之间的数字。每条从根节点到叶节点的路径都代表一个数字：\n",
    "\n",
    "> 例如，从根节点到叶节点的路径 1 -> 2 -> 3 表示数字 123 。\n",
    "\n",
    "设计一个算法计算从根节点到叶节点生成的所有数字之和 ，分析算法设计思路，计算时间复杂度，并基于python编程实现\n",
    "\n",
    "叶节点:是指没有子节点的节点。\n",
    "\n",
    "e.g.:\n",
    "---\n",
    "1.\n",
    "\n",
    " <div style=\"text-align:center;width:200px;\"> <img alt=\"figure\" src=\"./fig/hw3q10-1.jpg\"> </div>\n",
    "\n",
    " 输入：root = [1,2,3], 输出：25\n",
    "\n",
    "解释：从根到叶子节点路径 1->2 代表数字 12，1->3 代表数字 13，因此和为 12 + 13 = 25 。\n",
    "\n",
    "2.\n",
    "\n",
    " <div style=\"text-align:center;width:200px;\"> <img alt=\"figure\" src=\"./fig/hw3q10-2.jpg\"> </div>\n",
    "\n",
    " 输入：root = [4,9,0,5,1], 输出：1026\n",
    "\n",
    "解释：从根到叶子节点路径 4->9->5 代表数字 495，4->9->1 代表数字 491，4->0 代表数字 40。因此和为 495 + 491 + 40 = 1026 。"
   ]
  },
  {
   "cell_type": "markdown",
   "metadata": {},
   "source": [
    "idea："
   ]
  },
  {
   "cell_type": "code",
   "execution_count": null,
   "metadata": {},
   "outputs": [],
   "source": [
    "# add your code here\n",
    "\"\"\"\n",
    "计算从根节点到叶节点路径生成的所有数字之和，可以采用深度优先搜索（DFS）来遍历所有路径。在遍历过程中，逐层构建当前路径对应的数字，当到达叶节点时（无左右子节点），将该路径的数字累加到总和中，将所有叶节点路径数字相加得到最终结果。\"\"\"\n",
    "class TreeNode:\n",
    "    def __init__(self, val=0, left=None, right=None):\n",
    "        self.val = val\n",
    "        self.left = left\n",
    "        self.right = right\n",
    "class Solution:\n",
    "    def sumNumbers(self, root: TreeNode) -> int:\n",
    "        def dfs(node, current_sum):\n",
    "            if not node:\n",
    "                return 0\n",
    "            current_sum = current_sum * 10 + node.val\n",
    "            if not node.left and not node.right:\n",
    "                return current_sum\n",
    "            return dfs(node.left, current_sum) + dfs(node.right, current_sum)\n",
    "\n",
    "        return dfs(root, 0)\n",
    "# your algorithm time complexity is:\n",
    "\"\"\"\"时间复杂度为O(n)\"\"\""
   ]
  },
  {
   "cell_type": "markdown",
   "metadata": {},
   "source": [
    "## 问题 10  \n",
    "\n",
    "给你一个二叉树的根节点 root ， 检查它是否轴对称。\n",
    "\n",
    "1. 分析算法设计思路，计算时间复杂度，并基于python编程实现\n",
    "2. \\* 设计使用递归和迭代两种方法解决这个问题，计算时间复杂度，并基于python编程实现\n",
    "\n",
    "e.g.:\n",
    "---\n",
    "1.\n",
    "\n",
    " <div style=\"text-align:center;width:200px;\"> <img alt=\"figure\" src=\"./fig/hw3q11-1.png\"> </div>\n",
    "\n",
    " 输入：root = [1,2,2,3,4,4,3]， 输出：true\n",
    "\n",
    "解释：二叉树 [1,2,2,3,4,4,3] 对称。\n",
    "\n",
    "2.\n",
    "\n",
    " <div style=\"text-align:center;width:200px;\"> <img alt=\"figure\" src=\"./fig/hw3q11-2.png\"> </div>\n",
    "\n",
    " 输入：root = [1,2,2,null,3,null,3]， 输出：false"
   ]
  },
  {
   "cell_type": "markdown",
   "metadata": {},
   "source": [
    "idea"
   ]
  },
  {
   "cell_type": "code",
   "execution_count": null,
   "metadata": {},
   "outputs": [],
   "source": [
    "# add your code here\n",
    "\"\"\"\"问题一：判断是否轴对称可以使用广度优先算法遍历每层节点如队列，根据队列判断是否是回文\"\"\"\n",
    "from collections import deque\n",
    "\n",
    "class TreeNode:\n",
    "    def __init__(self, val=0, left=None, right=None):\n",
    "        self.val = val\n",
    "        self.left = left\n",
    "        self.right = right\n",
    "\n",
    "class Solution:\n",
    "    def isSymmetric(self, root: TreeNode) -> bool:\n",
    "        if not root:\n",
    "            return True\n",
    "\n",
    "        queue = deque([root])\n",
    "        while queue:\n",
    "            level_size = len(queue)\n",
    "            level = []\n",
    "            for _ in range(level_size):\n",
    "                node = queue.popleft()\n",
    "                if node:\n",
    "                    level.append(node.val)\n",
    "                    queue.append(node.left)\n",
    "                    queue.append(node.right)\n",
    "                else:\n",
    "                    level.append(None)  # 标记空节点\n",
    "\n",
    "            # 检查当前层是否为回文\n",
    "            left, right = 0, len(level)-1\n",
    "            while left < right:\n",
    "                if level[left] != level[right]:\n",
    "                    return False\n",
    "                left += 1\n",
    "                right -= 1\n",
    "        return True\n",
    "\n",
    "# your algorithm time complexity is:\n",
    "\"\"\"\"时间复杂度为O(n)\"\"\""
   ]
  },
  {
   "cell_type": "code",
   "execution_count": null,
   "outputs": [],
   "source": [
    "# add your code here\n",
    "\"\"\"问题二：递归方法\n",
    "递归终止条件：\n",
    "两个节点均为空 → 对称。\n",
    "一个为空另一个非空 → 不对称。\n",
    "递归检查：比较当前节点值，子节点相同就对称。\"\"\"\n",
    "class TreeNode:\n",
    "    def __init__(self, val=0, left=None, right=None):\n",
    "        self.val = val\n",
    "        self.left = left\n",
    "        self.right = right\n",
    "\n",
    "class Solution:\n",
    "    def isSymmetric(self, root: TreeNode) -> bool:\n",
    "        def check(left, right):\n",
    "            if not left and not right:\n",
    "                return True\n",
    "            if not left or not right:\n",
    "                return False\n",
    "            return left.val == right.val and check(left.left, right.right) and check(left.right, right.left)\n",
    "\n",
    "        return check(root.left, root.right) if root else True\n",
    "# your algorithm time complexity is:\n",
    "\"\"\"\"时间复杂度为O(n)\"\"\""
   ],
   "metadata": {
    "collapsed": false
   }
  },
  {
   "cell_type": "code",
   "execution_count": null,
   "outputs": [],
   "source": [
    "# add your code here\n",
    "\"\"\"\n",
    "问题二：迭代方法\n",
    "初始入队：将根节点的左右子节点入队，根节点不入栈\n",
    "循环处理：每次取出两个节点，比较值是否相等。\n",
    "将左节点的左子节点与右节点的右子节点入队。\n",
    "将左节点的右子节点与右节点的左子节点入队。\n",
    "终止条件：队列为空时返回True，否则遇到不匹配立即返回False。\"\"\"\n",
    "from collections import deque\n",
    "class TreeNode:\n",
    "    def __init__(self, val=0, left=None, right=None):\n",
    "        self.val = val\n",
    "        self.left = left\n",
    "        self.right = right\n",
    "class Solution:\n",
    "    def isSymmetric(self, root: TreeNode) -> bool:\n",
    "        if not root:\n",
    "            return True\n",
    "        queue = deque([(root.left, root.right)])\n",
    "        while queue:\n",
    "            left, right = queue.popleft()\n",
    "            if not left and not right:\n",
    "                continue\n",
    "            if not left or not right or left.val != right.val:\n",
    "                return False\n",
    "            queue.append((left.left, right.right))\n",
    "            queue.append((left.right, right.left))\n",
    "        return True\n",
    "# your algorithm time complexity is:\n",
    "\"\"\"\"时间复杂度为O(n)\"\"\""
   ],
   "metadata": {
    "collapsed": false
   }
  },
  {
   "cell_type": "markdown",
   "metadata": {},
   "source": [
    "## 问题 11  \n",
    "\n",
    "给你一个由 '1'（陆地）和 '0'（水）组成的的二维网格，请你计算网格中岛屿的数量。岛屿总是被水包围，并且每座岛屿只能由水平方向和/或竖直方向上相邻的陆地连接形成。\n",
    "\n",
    "此外，你可以假设该网格的四条边均被水包围。\n",
    "\n",
    "分析算法设计思路，计算时间复杂度，并基于python编程实现\n",
    "\n",
    "e.g.:\n",
    "---\n",
    "1.\n",
    "输入：grid = [\n",
    "\n",
    "    [\"1\",\"1\",\"1\",\"1\",\"0\"],\n",
    "\n",
    "    [\"1\",\"1\",\"0\",\"1\",\"0\"], \n",
    "\n",
    "    [\"1\",\"1\",\"0\",\"0\",\"0\"], \n",
    "\n",
    "    [\"0\",\"0\",\"0\",\"0\",\"0\"]  \n",
    "\n",
    "]\n",
    "\n",
    "输出：1\n",
    "\n",
    "2.\n",
    "输入：grid = [\n",
    "\n",
    "    [\"1\",\"1\",\"0\",\"0\",\"0\"],\n",
    "\n",
    "    [\"1\",\"1\",\"0\",\"0\",\"0\"],\n",
    "\n",
    "    [\"0\",\"0\",\"1\",\"0\",\"0\"],\n",
    "\n",
    "    [\"0\",\"0\",\"0\",\"1\",\"1\"]\n",
    "\n",
    "]\n",
    "\n",
    "输出：3"
   ]
  },
  {
   "cell_type": "markdown",
   "metadata": {},
   "source": [
    "idea:"
   ]
  },
  {
   "cell_type": "code",
   "execution_count": 12,
   "metadata": {
    "ExecuteTime": {
     "end_time": "2025-05-08T12:26:42.272223700Z",
     "start_time": "2025-05-08T12:26:42.247579400Z"
    }
   },
   "outputs": [
    {
     "name": "stdout",
     "output_type": "stream",
     "text": [
      "1\n"
     ]
    },
    {
     "data": {
      "text/plain": "'时间复杂度：0(m × n)m为行数，n为列数。'"
     },
     "execution_count": 12,
     "metadata": {},
     "output_type": "execute_result"
    }
   ],
   "source": [
    "# add your code here\n",
    "\"\"\"\n",
    "设计思路：逐行逐列检查每个单元格，当遇到未访问的陆地（'1'）时，启动深度优先遍历。从一个陆地出发，尽可能深入地去访问所有与之相连的陆地，将当前陆地标记为已访问（改为'0'），直到周围都是水或者已经访问过的陆地。这样就能把整个岛屿都标记出来，避免重复计数。\n",
    "递归处理当前陆地的上下左右四个相邻单元格。\n",
    "每完成一次DFS，岛屿数量加一。\"\"\"\n",
    "from typing import List\n",
    "\n",
    "class Solution:\n",
    "    def numIslands(self, grid: List[List[str]]) -> int:\n",
    "        if not grid:\n",
    "            return 0\n",
    "\n",
    "        rows, cols = len(grid), len(grid[0])\n",
    "        count = 0\n",
    "        def dfs(i: int, j: int) -> None:\n",
    "            # 边界检查：确保坐标合法\n",
    "            if i < 0 or j < 0 or i >= rows or j >= cols:\n",
    "                return\n",
    "            # 有效性检查：仅处理未访问的陆地\n",
    "            if grid[i][j] != '1':\n",
    "                return\n",
    "            # 标记为已访问\n",
    "            grid[i][j] = '0'\n",
    "            # 递归探索四个方向\n",
    "            dfs(i + 1, j)  # 下\n",
    "            dfs(i - 1, j)  # 上\n",
    "            dfs(i, j + 1)  # 右\n",
    "            dfs(i, j - 1)  # 左\n",
    "\n",
    "        # 遍历所有网格点\n",
    "        for i in range(rows):\n",
    "            for j in range(cols):\n",
    "                if grid[i][j] == '1':\n",
    "                    dfs(i, j)\n",
    "                    count += 1  # 发现新岛屿\n",
    "\n",
    "        return count\n",
    "grid = [\n",
    "    [\"1\",\"1\",\"1\",\"1\",\"0\"],\n",
    "    [\"1\",\"1\",\"0\",\"1\",\"0\"],\n",
    "    [\"1\",\"1\",\"0\",\"0\",\"0\"],\n",
    "    [\"0\",\"0\",\"0\",\"0\",\"0\"]\n",
    "]\n",
    "print(Solution().numIslands(grid))\n",
    "# your algorithm time complexity is:\n",
    "\"\"\"时间复杂度：0(m × n)m为行数，n为列数。\"\"\""
   ]
  },
  {
   "cell_type": "code",
   "execution_count": null,
   "outputs": [],
   "source": [],
   "metadata": {
    "collapsed": false
   }
  }
 ],
 "metadata": {
  "language_info": {
   "name": "python"
  },
  "kernelspec": {
   "name": "python3",
   "language": "python",
   "display_name": "Python 3 (ipykernel)"
  }
 },
 "nbformat": 4,
 "nbformat_minor": 2
}
