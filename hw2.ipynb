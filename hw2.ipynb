{
 "cells": [
  {
   "cell_type": "markdown",
   "metadata": {},
   "source": [
    "## algorithm design and anlysis-2025 spring  homework 2\n",
    "**Deadline**：2025.5.14\n",
    "\n",
    "**name**:\n",
    "\n",
    "\n",
    "note：\n",
    "---\n",
    "1. 带有\\*的题目，申请免上课的同学，必须完成，其他同学选作；\n",
    "2. 请独立完成，如求助了他人或者大模型，请著明，并且不可省略算法分析部分；\n",
    "4. 如若作答有雷同，全部取消成绩；\n",
    "3. 需要书面作答的题目，可以通过引用图片的形式添加，但是注意上传项目时包含所引用的图片的源文件；\n",
    "4. $log_n$ 默认表示$log_2{n}$;"
   ]
  },
  {
   "cell_type": "markdown",
   "metadata": {},
   "source": [
    "## 问题 1  \n",
    "\n",
    "> 给定一个已排序的链表的头 `head` ， *删除所有重复的元素，使每个元素只出现一次* 。返回 *已排序的链表* 。链表的类如下所示：\n",
    "\n",
    "```python\n",
    "class NodeList:\n",
    "    def __init__(self, val=None, right=None):\n",
    "        self.val   = val\n",
    "        self.right = right\n",
    "```\n",
    "\n",
    "输入是一个数组，你首先需要将数组转化为链表，然后删除链表中的重复元素，再遍历链表元素，以一个数组的形式返回。请设计一个算法解决上述任务，分析算法设计思路，计算时间复杂度, 并基于python编程实现。\n",
    "\n",
    "e.g.  输入：head=[1, 1, 2, 3, 3]   输出：[1, 2, 3]\n",
    "\n",
    "![image-20240502110020439](./fig/hw2q1.png)\n",
    "\n"
   ]
  },
  {
   "cell_type": "markdown",
   "metadata": {},
   "source": [
    "idea："
   ]
  },
  {
   "cell_type": "code",
   "execution_count": 2,
   "metadata": {
    "ExecuteTime": {
     "end_time": "2025-05-07T08:47:25.730942200Z",
     "start_time": "2025-05-07T08:47:25.688125900Z"
    }
   },
   "outputs": [
    {
     "name": "stdout",
     "output_type": "stream",
     "text": [
      "[1, 2, 3]\n"
     ]
    }
   ],
   "source": [
    "# add your idea here\n",
    "class NodeList:\n",
    "    \"\"\"链表节点类\"\"\"\n",
    "    def __init__(self, val=None, right=None):\n",
    "        \"\"\"\n",
    "        初始化链表节点\n",
    "        right: 指向下一个节点的指针（类似单链表的next）\n",
    "        \"\"\"\n",
    "        self.val = val\n",
    "        self.right = right\n",
    "\n",
    "def array_to_linked_list(arr):\n",
    "    if not arr:\n",
    "        return None  # 处理空数组情况\n",
    "\n",
    "    # 创建头节点\n",
    "    head = NodeList(arr[0])\n",
    "    current = head  # 当前指针初始指向头节点\n",
    "\n",
    "    # 遍历数组剩余元素，逐个添加到链表\n",
    "    for val in arr[1:]:\n",
    "        new_node = NodeList(val)\n",
    "        current.right = new_node  # 将新节点连接到当前节点的右侧\n",
    "        current = new_node        # 移动指针到新节点\n",
    "\n",
    "    return head\n",
    "\n",
    "def delete_duplicates(head):\n",
    "    current = head  # 初始化当前指针\n",
    "\n",
    "    # 遍历链表直到末尾（current或current.right为空时停止）\n",
    "    while current.right :\n",
    "        # 发现重复节点（当前节点值等于下一个节点值）\n",
    "        if current.val == current.right.val:\n",
    "            # 跳过下一个节点（将当前节点的right指针指向下下个节点）\n",
    "            current.right = current.right.right\n",
    "        else:\n",
    "            # 无重复，正常移动到下一个节点\n",
    "            current = current.right\n",
    "\n",
    "    return head\n",
    "\n",
    "def linked_list_to_array(head):\n",
    "    arr = []\n",
    "    current = head  # 当前指针初始指向头节点\n",
    "\n",
    "    # 遍历链表直到末尾\n",
    "    while current:\n",
    "        arr.append(current.val)  # 将节点值加入数组\n",
    "        current = current.right   # 移动指针到下一个节点\n",
    "\n",
    "    return arr\n",
    "\n",
    "\n",
    "def remove_duplicates(arr):\n",
    "    # 1. 数组转链表\n",
    "    head = array_to_linked_list(arr)\n",
    "    # 2. 删除链表中的重复节点\n",
    "    head = delete_duplicates(head)\n",
    "    # 3. 链表转数组并返回结果\n",
    "    return linked_list_to_array(head)\n",
    "\n",
    "\n",
    "if __name__ == \"__main__\":\n",
    "\n",
    "    print(remove_duplicates([1, 1, 2, 3, 3]))\n",
    "\n",
    "# your algorithm time complexity is:\n",
    "#时间复杂度为O(n)"
   ]
  },
  {
   "cell_type": "markdown",
   "metadata": {},
   "source": [
    "## 问题 2  \n",
    "\n",
    "> 下面是一个经典的算法问题：\n",
    ">\n",
    "> - 给定包含n个整数的一个整数数组 `nums` 和一个整数目标值 `target`，请你在该数组中找出 **和为目标值** *`target`* 的那 **两个** 整数，并返回它们的**数组下标**。假设每种输入只会对应一个答案。但是，数组中同一个元素在答案里不能重复出现。你可以按任意顺序返回答案。\n",
    ">\n",
    "> 由于要多次查找数组中元素的位置，为了提高查询效率可以使用哈希表来存储数组中的数据，在哈希表中查询一个元素的复杂度为O(1)。 已知python中的字典是使用哈希表实现的，即使用`dict[key]`查询对应的value时间复杂度为O(1), python提供了查询字典是否包含某个key的功能：`key in dict`，时间复杂度也是O(1)\n",
    "\n",
    "请根据上面信息，设计一个时间复杂度为O(n) 的算法，解决上述算法问题\n",
    "\n",
    "e.g.   \n",
    "\n",
    "输入：nums=[2,7,11,15], target=9， 输出：[0，1]\n",
    "\n",
    "输入：nums=[3,2,4], target=6, 输出：[1,2]\n",
    "\n",
    "输入：nums=[3,3], target=6,  输出：[0,1]\n"
   ]
  },
  {
   "cell_type": "code",
   "execution_count": 3,
   "metadata": {
    "ExecuteTime": {
     "end_time": "2025-05-07T08:53:53.899289600Z",
     "start_time": "2025-05-07T08:53:53.827833900Z"
    }
   },
   "outputs": [
    {
     "name": "stdout",
     "output_type": "stream",
     "text": [
      "[0, 1]\n"
     ]
    }
   ],
   "source": [
    "# add your idea here\n",
    "def twonum(nums, target):\n",
    "    hash_map = {}  # 哈希表存储数值及其索引\n",
    "    for i, num in enumerate(nums):\n",
    "        complement = target - num\n",
    "        if complement in hash_map:\n",
    "            return [hash_map[complement], i]  # 找到补数，返回结果\n",
    "        hash_map[num] = i  # 将当前数值存入哈希表\n",
    "    return []  # 如果不能找到补数，返回空列表\n",
    "\n",
    "print(twonum([2, 7, 11, 15], 9))\n",
    "\n",
    "# your algorithm time complexity is: O(n)"
   ]
  },
  {
   "cell_type": "markdown",
   "metadata": {},
   "source": [
    "## 问题 3:   \n",
    "\n",
    "> 栈是一种常用的数据结构，编译器中通常使用栈来实现表达式求值。\n",
    ">\n",
    "> 以表达式 $3+5 \\times 8-6$​ 为例。编译器使用两个栈来完成运算，即一个栈保持操作数，另一个栈保存运算符。\n",
    ">\n",
    "> 1. 从左向右遍历表达式，遇到数字就压入操作数栈；\n",
    ">\n",
    "> 2. 遇到运算符，就与运算符栈的栈顶元素进行比较。如果比运算符栈顶元素的优先级高，就将当前运算符压入栈；如果比运算符栈顶元素的优先级低或者相同，从运算符栈中取栈顶运算符，从操作数栈的栈顶取 2 个操作数，然后进行计算，再把计算完的结果压入操作数栈，继续比较。\n",
    ">\n",
    "> 下图是 $3+5 \\times 8-6$  这个表达式的计算过程：\n",
    "\n",
    "![figure](./fig/hw2q3.png)\n",
    "\n",
    "根据上述原理，请设计一个算法完成表达式的运算，当输入为表达式字符串，返回对应的计算结果。分析算法设计思路，计算时间复杂度，并基于python编程实现\n",
    "\n",
    "**note：**\n",
    "\n",
    "1. 假设输入的表达式只会出现加（“+”），减 “-”， 乘“*”，除 “/” 四个运算符, 表达式中只会出现正整数\n",
    "2. python中` str.isdigit()`函数可以判断字符串str是否为数字，\n",
    "\n",
    "\n",
    "\n",
    "e.g. :\n",
    "---\n",
    "\n",
    "1. 输入：“$3+5 * 8 -6$”   输出：37\n",
    "\n",
    "2. 输入：“$34+13*9 + 44-12/3$”  输出：191"
   ]
  },
  {
   "cell_type": "markdown",
   "metadata": {},
   "source": [
    "idea："
   ]
  },
  {
   "cell_type": "code",
   "execution_count": 13,
   "metadata": {
    "ExecuteTime": {
     "end_time": "2025-05-07T09:17:44.965831900Z",
     "start_time": "2025-05-07T09:17:44.953800600Z"
    }
   },
   "outputs": [
    {
     "name": "stdout",
     "output_type": "stream",
     "text": [
      "191\n"
     ]
    }
   ],
   "source": [
    "# add your idea here\n",
    "\"\"\"算法思路：创建一个数字栈和符号栈分别存放数字和字符；先判断当前遍历的是数字还是符号，如果是数字，进行多位数处理；如果是符号，就将存储的多位数送入数字栈，再根据当前符号与符号栈顶元素的优先级判断是否进行计算，然后将当前字符压入栈\"\"\"\n",
    "def _calc(nums, ops):\n",
    "    op = ops.pop()\n",
    "    b = nums.pop()\n",
    "    a = nums.pop()\n",
    "    if op == '+':\n",
    "        nums.append(a + b)\n",
    "    elif op == '-':\n",
    "        nums.append(a - b)\n",
    "    elif op == '*':\n",
    "        nums.append(a * b)\n",
    "    elif op == '/':\n",
    "        nums.append(a // b)  # 根据需求选择整数或浮点除法\n",
    "def computer(expression):\n",
    "    figure_stack = []\n",
    "    num_stack=[]\n",
    "    current_num = 0   # 用于处理多位数\n",
    "    for i in expression:\n",
    "         if i.isdigit():\n",
    "            current_num = current_num * 10 + int(i)  # 处理多位数\n",
    "         else:\n",
    "             # 将累积的多位数压入栈\n",
    "            num_stack.append(current_num)\n",
    "            current_num = 0  # 重置临时变量\n",
    "            while figure_stack and (figure_stack[-1] == \"/\" or figure_stack[-1] == \"*\" and i in \"+-\"):\n",
    "                _calc(num_stack,figure_stack)\n",
    "            figure_stack.append(i)\n",
    "    num_stack.append(current_num)#将最后的累积位数压入栈\n",
    "    while figure_stack:\n",
    "        _calc(num_stack,figure_stack)\n",
    "    return num_stack[0]\n",
    "print(computer(\"34+13*9+44-12/3\"))\n",
    "\n",
    "# your algorithm time complexity is: figure_stack and figure_stack[-1] in \"+-*/\" and ("
   ]
  },
  {
   "cell_type": "markdown",
   "metadata": {},
   "source": [
    "## 问题 4:  \n",
    "\n",
    "> 星球碰撞问题：现有n个星球，在同一条直线上运行，如数组A所示，元素的绝对值表示星球的质量，负数表示星球自右向左运动，正数表示星球自左向右运动，当两个星球相撞的时候，质量小的会消失，大的保持不变，**质量相同的两个星球碰撞后自右向左运动的星球消失，自左向右的星球保持不变**，假设所有星球的速度大小相同。\n",
    ">\n",
    "> $ A=[23,-8, 9, -3, -7, 9, -23, 22] $\n",
    "\n",
    "请设计一个算法模拟星球的运行情况，输出最终的星球存续情况（输出一个数组），分析算法设计思路，计算时间复杂度，并基于python编程实现。\n",
    "\n",
    "e.g.\n",
    "---\n",
    "1.  输入： A=[-3,-6,2,8, 5,-8,9,-2,1]， 输出：[-3, -6, 2, 8, 9, 1]\n",
    "\n",
    "2. 输入：A=[23,-8, 9, -3, -7, 9, -23, 22], 输出：[23, 22]\n",
    "\n"
   ]
  },
  {
   "cell_type": "code",
   "execution_count": 28,
   "outputs": [
    {
     "name": "stdout",
     "output_type": "stream",
     "text": [
      "[-3, -6, 2, 8, 9, 1]\n"
     ]
    }
   ],
   "source": [
    "\"\"\"只有左边向右运动的星球遇到右边向左运动的星球才有可能会发生碰撞，用栈存储星球，对于要送入栈的星球，若发生碰撞，根据规则去除对应的星球\"\"\"\n",
    "def asteroidCollision(list):\n",
    "    stack = []\n",
    "    for num in list:\n",
    "        if num > 0:\n",
    "            stack.append(num)\n",
    "        else:\n",
    "            # 处理负数，与栈顶正数碰撞\n",
    "            while stack and stack[-1] > 0:\n",
    "                top = stack[-1]\n",
    "                if top < -num:\n",
    "                    stack.pop()\n",
    "                elif top > -num:\n",
    "                    num = None  # 当前负数被销毁\n",
    "                    break\n",
    "                else:\n",
    "                     # 两者质量相等，销毁负数\n",
    "                    num = None\n",
    "                    break\n",
    "            if num is not None:\n",
    "                stack.append(num)\n",
    "    return stack\n",
    "\n",
    "print(asteroidCollision([-3,-6,2,8, 5,-8,9,-2,1]))\n"
   ],
   "metadata": {
    "collapsed": false,
    "ExecuteTime": {
     "end_time": "2025-05-08T02:02:36.841876200Z",
     "start_time": "2025-05-08T02:02:36.837325900Z"
    }
   }
  },
  {
   "cell_type": "markdown",
   "metadata": {},
   "source": [
    "## 问题 5 \n",
    "\n",
    "> 给定一个无序数组nums=[9,-3,-10,0,9,7,33]，请建立一个二叉搜索树存储数组中的所有元素，之后删除二叉树中的元素“0”，再使用中序遍历输出二叉搜索树中的所有元素。\n",
    "\n",
    "使用python编程完成上述任务，并计算时间复杂度\n"
   ]
  },
  {
   "cell_type": "code",
   "execution_count": 16,
   "metadata": {
    "ExecuteTime": {
     "end_time": "2025-05-07T11:22:19.560638900Z",
     "start_time": "2025-05-07T11:22:19.542098200Z"
    }
   },
   "outputs": [
    {
     "name": "stdout",
     "output_type": "stream",
     "text": [
      "[-10, -3, 7, 9, 9, 33]\n"
     ]
    },
    {
     "data": {
      "text/plain": "'\\n插入操作：平均时间复杂度为 O(n log n)，最坏为 O(n²）。\\n删除操作：平均 (log n)，最坏 O(n)。\\n中序遍历：O(n)，需访问所有节点。\\n总时间复杂度：平均 O(n log n),最坏 O(n²)。\\n'"
     },
     "execution_count": 16,
     "metadata": {},
     "output_type": "execute_result"
    }
   ],
   "source": [
    "# add your idea here\n",
    "class TreeNode:\n",
    "    def __init__(self, val=0, left=None, right=None):\n",
    "        self.val = val\n",
    "        self.left = left\n",
    "        self.right = right\n",
    "\n",
    "def insert(root, val):\n",
    "    \"\"\"遍历数组元素，按二叉搜索树规则插入节点。左<根<右\"\"\"\n",
    "    if not root:\n",
    "        return TreeNode(val)\n",
    "    if val < root.val:\n",
    "        root.left = insert(root.left, val)\n",
    "    else:\n",
    "        root.right = insert(root.right, val)\n",
    "    return root\n",
    "\n",
    "def deleteNode(root, key):\n",
    "    \"\"\"找到值为0的节点，若其有右子树，则用右子树的最小节点替换被删除节点，否则直接调整指针\"\"\"\n",
    "    if not root:\n",
    "        return None\n",
    "    if key < root.val:\n",
    "        root.left = deleteNode(root.left, key)# 目标在左子树，递归左子树\n",
    "    elif key > root.val:\n",
    "        root.right = deleteNode(root.right, key)\n",
    "    else:\n",
    "        # 没有左子节点：直接返回右子节点，这样当前节点被右子节点替代\n",
    "        if not root.left:\n",
    "            return root.right\n",
    "        # 没有右子节点：直接返回左子节点，当前节点被左子节点替代\n",
    "        if not root.right:\n",
    "            return root.left\n",
    "        # Case 3: Node has both children\n",
    "        # 找到右子树中的最小节点\n",
    "        temp = root.right\n",
    "        while temp.left:\n",
    "            temp = temp.left\n",
    "        root.val = temp.val\n",
    "        # Delete the inorder successor\n",
    "        root.right = deleteNode(root.right, temp.val)\n",
    "    return root\n",
    "\n",
    "def inorderTraversal(root):\n",
    "    res = []\n",
    "    if root:\n",
    "        res += inorderTraversal(root.left)\n",
    "        res.append(root.val)\n",
    "        res += inorderTraversal(root.right)\n",
    "    return res\n",
    "\n",
    "# 构建二叉搜索树\n",
    "nums = [9, -3, -10, 0, 9, 7, 33]\n",
    "root = None\n",
    "for num in nums:\n",
    "    root = insert(root, num)\n",
    "# 删除元素0\n",
    "root = deleteNode(root, 0)\n",
    "\n",
    "# 中序遍历输出结果\n",
    "result = inorderTraversal(root)\n",
    "print(result)\n",
    "# your algorithm time complexity is:\n",
    "\"\"\"\n",
    "插入操作：平均时间复杂度为 O(n log n)，最坏为 O(n²）。\n",
    "删除操作：平均 (log n)，最坏 O(n)。\n",
    "中序遍历：O(n)，需访问所有节点。\n",
    "总时间复杂度：平均 O(n log n),最坏 O(n²)。\n",
    "\"\"\""
   ]
  },
  {
   "cell_type": "markdown",
   "metadata": {},
   "source": [
    "## 问题 6  \n",
    "\n",
    "> 给定一个包含大写字母和小写字母的字符串 s ，返回 字符串包含的 **最长的回文子串的长度** 。请注意 区分大小写 。比如 \"Aa\" 不能当做一个回文字符串。\n",
    ">\n",
    "\n",
    "请设计一个算法解决上述问题，只需要输出最长回文子串的长度，分析算法设计思路，计算时间复杂度，并基于python编程实现\n",
    "\n",
    "e.g. 输入： s=\"adccaccd\"，  输出：7。 最长回文子串为：\"dccaccd\", 长度为7\n"
   ]
  },
  {
   "cell_type": "markdown",
   "metadata": {},
   "source": [
    "idea："
   ]
  },
  {
   "cell_type": "code",
   "execution_count": 17,
   "metadata": {
    "ExecuteTime": {
     "end_time": "2025-05-07T11:41:44.758549200Z",
     "start_time": "2025-05-07T11:41:44.709475800Z"
    }
   },
   "outputs": [
    {
     "name": "stdout",
     "output_type": "stream",
     "text": [
      "7\n"
     ]
    }
   ],
   "source": [
    "# add your idea here\n",
    "\"\"\"寻找字符串中最长回文子串，采用的是中心扩展法。其核心思想是：遍历字符串中的每个可能中心点，从该点向两边扩展，检查能形成的最长回文子串\"\"\"\n",
    "def longest(s: str) -> int:\n",
    "    def expand(left: int, right: int) -> int:\n",
    "        # 从中心向两边扩展，返回最长回文的长度\n",
    "        while left >= 0 and right < len(s) and s[left] == s[right]:\n",
    "            left -= 1\n",
    "            right += 1\n",
    "        return right - left - 1  # 回文长度为 (right-1) - (left+1) + 1 = right - left -1\n",
    "\n",
    "    if not s:\n",
    "        return 0\n",
    "\n",
    "    max_len = 0\n",
    "    n = len(s)\n",
    "    for i in range(n):\n",
    "        # 奇数长度的回文，中心为i\n",
    "        len1 = expand(i, i)\n",
    "        # 偶数长度的回文，中心为i和i+1之间\n",
    "        len2 = expand(i, i + 1)\n",
    "        current_max = max(len1, len2)\n",
    "        if current_max > max_len:\n",
    "            max_len = current_max\n",
    "    return max_len\n",
    "\n",
    "print(longest(\"adccaccd\"))\n",
    "# your algorithm time complexity is:\n",
    "\"\"\"时间复杂度为O(n²)\"\"\""
   ]
  },
  {
   "cell_type": "markdown",
   "metadata": {},
   "source": [
    "## 问题 7 \n",
    "\n",
    "> 沿一条长河流分散着n座房子。你可以把这条河想象成一条轴，房子是由它们在这条轴上的坐标按顺序排列的。你的公司想在河边的特定地点设置手机基站，这样每户人家都在距离基站4公里的范围内。输入可以看作为一个升序数组，数组元素的取值为大于等于0的正整数，你需要输出最小基站的数目，基站的位置。\n",
    "\n",
    "1. 给出一个时间复杂度为$O(n$) 的算法，使所使用的基站数量最小化，分析算法设计思路，使用python编程实现\n",
    "2. 证明1.中算法产生了最优解决方案。\n",
    "\n",
    "e.g. \n",
    "\n",
    "输入： [1, 5, 12, 33, 34,35]  输出：基站数目为3， 基站位置为[1，12，33]\n",
    "\n"
   ]
  },
  {
   "cell_type": "markdown",
   "metadata": {},
   "source": [
    "idea："
   ]
  },
  {
   "cell_type": "code",
   "execution_count": 21,
   "metadata": {
    "ExecuteTime": {
     "end_time": "2025-05-07T11:53:01.459931100Z",
     "start_time": "2025-05-07T11:53:01.416291400Z"
    }
   },
   "outputs": [
    {
     "name": "stdout",
     "output_type": "stream",
     "text": [
      "1\n",
      "12\n",
      "33\n",
      "3\n"
     ]
    }
   ],
   "source": [
    "# add your idea here\n",
    "\"\"\"使用贪心算法\n",
    "每次选择第一个未被覆盖的房子右侧4公里处设置基站，确保覆盖范围最大化。假设存在更优解，其第一个基站覆盖范围必小于等于当前选择，导致后续需要更多基站\"\"\"\n",
    "def min_base_stations(houses):\n",
    "    if not houses:\n",
    "        return 0\n",
    "    stations = 0\n",
    "    coverage_end = -float('inf')  # 当前覆盖的最远位置，为什么不能为负数\n",
    "    #print(coverage_end)\n",
    "    for house in houses:\n",
    "        if house > coverage_end:\n",
    "            stations += 1\n",
    "            coverage_end = house + 8  # 基站覆盖范围为 [house, house+8]\n",
    "            print(house)\n",
    "\n",
    "    return stations\n",
    "\n",
    "\n",
    "print(min_base_stations([1, 5, 12, 33, 34,35]))\n",
    "# your algorithm time complexity is:\n",
    "\"\"\"时间复杂度为O(n)\"\"\""
   ]
  },
  {
   "cell_type": "markdown",
   "metadata": {},
   "source": [
    "## 问题 8  \n",
    "\n",
    "> 给定由n个正整数组成的一个集合$S = \\{a_1, a_2，···，a_n\\}$和一个正整数W，设计一个算法确定是否存在S的一个子集 $K \\subseteq S$, 使K中所有数之和为 $W$, 如果存在返回“True”，否则返回“False”\n",
    "\n",
    "请设计一个时间复杂度为$O(nW)$动态规划算法，解决上述问题，分析算法的设计思路，并且基于python编程实现（不需要输出子集）。\n",
    "\n",
    "e.g. \n",
    "\n",
    "输入：S = {1,4,7,3,5}， W = 11，输出：True。   因为K可以是{4,7}。\n",
    "\n"
   ]
  },
  {
   "cell_type": "markdown",
   "metadata": {},
   "source": [
    "idea："
   ]
  },
  {
   "cell_type": "code",
   "execution_count": null,
   "metadata": {},
   "outputs": [],
   "source": [
    "# add your idea here\n",
    "def subset_sum(nums, target):\n",
    "    # 初始化动态规划数组\n",
    "    dp = [False] * (target + 1)#初始化所有可能的和为不可达状态\n",
    "    dp[0] = True  # 子集的和为0\n",
    "    for num in nums:\n",
    "        # 反向遍历避免重复使用同一元素\n",
    "        for w in range(target, num - 1, -1):\n",
    "            if dp[w - num]:#之前遍历的加上num等于k，则dp[w]为True\n",
    "                dp[w] = True\n",
    "\n",
    "    return dp[target]\n",
    "\n",
    "\n",
    "print(subset_sum([1,4,7,3,5], 11))\n",
    "# your algorithm time complexity is: O(nW)"
   ]
  },
  {
   "cell_type": "markdown",
   "metadata": {},
   "source": [
    "\n",
    "\n",
    "## 问题 9 \n",
    "\n",
    "> 给定一个n个物品的集合。物体的重量为$w_1, w_2，…、w_n$，物品的价值分别是$v_1、v_2、…v_n$。给你**两个**重量为 $c$ 的背包。如果你带了一个东西，它可以放在一个背包里，也可以放在另一个背包里，但不能同时放在两个背包里。所有权重和价值都是正整数。\n",
    "\n",
    "1. 设计一个时间复杂度为 $O(nc^2)$ 的动态规划算法，确定可以放入两个背包的物体的最大价值。分析算法设计思路，并基于python编程实现\n",
    "2. \\* 修改1中的算法，输出每个背包的内容（物品对应下标）。\n",
    "\n",
    "e.g.: \n",
    "\n",
    "输入 V=[1,3,2,5,8,7], W=[1,3,2,5,8,7], c=7, 输出：最大价值=14，背包装的物品为：[6] [4，3] （同一个背包中物品装入顺序对结果无影响）  \n"
   ]
  },
  {
   "cell_type": "markdown",
   "metadata": {},
   "source": [
    "idea："
   ]
  },
  {
   "cell_type": "code",
   "execution_count": 26,
   "metadata": {
    "ExecuteTime": {
     "end_time": "2025-05-07T12:28:02.581865Z",
     "start_time": "2025-05-07T12:28:02.540955500Z"
    }
   },
   "outputs": [
    {
     "name": "stdout",
     "output_type": "stream",
     "text": [
      "最大价值: 14\n",
      "背包1中的物品索引: [6]\n",
      "背包2中的物品索引: [3, 4]\n"
     ]
    }
   ],
   "source": [
    "# add your idea here\n",
    "\"\"\"通过三维动态规划数组记录所有可能的状态，确保在多项式时间内找到最优解\"\"\"\n",
    "def two_knapsack(weights, values, W1, W2):\n",
    "    n = len(weights)\n",
    "    INF = float('-inf')\n",
    "    dp = []  # 第一维：物品数量 (0到n)\n",
    "    # 初始化三维动态规划数组，dp[i][w1][w2]表示前i个物品在两个背包容量为w1和w2时的最大价值\n",
    "    for i in range(n + 1):\n",
    "        # 第二维：背包1的容量 (0到W1)\n",
    "        layer = []\n",
    "        for w1 in range(W1 + 1):\n",
    "            # 第三维：背包2的容量 (0到W2)\n",
    "            row = [INF] * (W2 + 1)  # 初始化为不可达状态\n",
    "            layer.append(row)\n",
    "        dp.append(layer)\n",
    "    dp[0][0][0] = 0  # 初始状态：前0个物品，两个背包容量为0时价值为0\n",
    "\n",
    "    # 填充动态规划表！！！\n",
    "    for i in range(1, n + 1):\n",
    "        wi = weights[i-1]\n",
    "        vi = values[i-1]\n",
    "        for w1 in range(W1 + 1):\n",
    "            for w2 in range(W2 + 1):\n",
    "                # 默认不放入任何背包\n",
    "                dp[i][w1][w2] = dp[i-1][w1][w2]\n",
    "                # 尝试放入背包1（如果容量足够）\n",
    "                if w1 >= wi:\n",
    "                    option1 = dp[i-1][w1 - wi][w2] + vi\n",
    "                    if option1 > dp[i][w1][w2]:\n",
    "                        dp[i][w1][w2] = option1\n",
    "                # 尝试放入背包2（如果容量足够）\n",
    "                if w2 >= wi:\n",
    "                    option2 = dp[i-1][w1][w2 - wi] + vi\n",
    "                    if option2 > dp[i][w1][w2]:\n",
    "                        dp[i][w1][w2] = option2\n",
    "\n",
    "    # 寻找最大价值及其对应的背包容量\n",
    "    max_value = INF\n",
    "    best_w1, best_w2 = 0, 0\n",
    "    for w1 in range(W1 + 1):\n",
    "        for w2 in range(W2 + 1):\n",
    "            if dp[n][w1][w2] > max_value:\n",
    "                max_value = dp[n][w1][w2]\n",
    "                best_w1 = w1\n",
    "                best_w2 = w2\n",
    "\n",
    "    if max_value == INF:  # 没有可行解\n",
    "        return 0, [], []\n",
    "\n",
    "    # 回溯确定每个背包中的物品\n",
    "    backpack1 = []\n",
    "    backpack2 = []\n",
    "    current_w1 = best_w1\n",
    "    current_w2 = best_w2\n",
    "\n",
    "    for i in range(n, 1, -1):\n",
    "        wi = weights[i-1]\n",
    "        vi = values[i-1]\n",
    "        # 检查是否放入背包1\n",
    "        if current_w1 >= wi and dp[i][current_w1][current_w2] == dp[i-1][current_w1 - wi][current_w2] + vi:\n",
    "            backpack1.append(i)  # 记录物品索引（从1开始）\n",
    "            current_w1 -= wi\n",
    "        # 检查是否放入背包2\n",
    "        elif current_w2 >= wi and dp[i][current_w1][current_w2] == dp[i-1][current_w1][current_w2 - wi] + vi:\n",
    "            backpack2.append(i)\n",
    "            current_w2 -= wi\n",
    "\n",
    "    return max_value, backpack1, backpack2\n",
    "\n",
    "weights = [1,3,2,5,8,7]\n",
    "values = [1,3,2,5,8,7]\n",
    "W1=W2 = 7\n",
    "max_val, b1, b2 = two_knapsack(weights, values, W1, W2)\n",
    "print(f\"最大价值: {max_val}\")\n",
    "print(f\"背包1中的物品索引: {sorted(b1)}\")\n",
    "print(f\"背包2中的物品索引: {sorted(b2)}\")\n",
    "# your algorithm time complexity is: O(nc^2)"
   ]
  },
  {
   "cell_type": "markdown",
   "metadata": {},
   "source": [
    "## 问题 10 \n",
    "\n",
    "> 给定两个字符串 $x[1..n]$ 和 $y[1..m]$，我们想通过以下操作将 $x$ 变换为 $y$ :\n",
    ">\n",
    "> **插入**：在 $x$ 中插入一个字符(在任何位置)；**删除**：从 $x$ 中删除一个字符(在任何位置)； **替换**：用另一个字符替换 $x$ 中的一个字符。\n",
    ">\n",
    "> 例如: $x = abcd$, $y = bcfe$，\n",
    ">\n",
    "> - 将 $x$ 转换为 $y$ 的一种可能方法是：1. 删除 $x$ 开头的 $a$, $x$变成 $bcd$； 2. 将 $x$ 中的字符 $d$ 替换为字符 $f$。$x$ 变成 $bcf$； 3. 在 $x$ 的末尾插入字符 $e$。$x$ 变成 $bcfe$。\n",
    ">\n",
    "> - 另一种可能的方法：1. 删除 $x$ 开头的 $a$,  $x$ 变成 $bcd$； 2. 在 $x$ 中字符 $d$ 之前插入字符 $f$。$x$ 变成 $bcfd$。3. 将 $x$ 中的字符 $d$ 替换为字符 $e$。$x$ 变成 $bcfe$。\n",
    "\n",
    "设计一个时间复杂度为 $O(mn)$ 的算法，返回将 $x$ 转换为 $y$ 所需的最少操作次数。分析算法设计思路，并基于python编程实现。\n"
   ]
  },
  {
   "cell_type": "markdown",
   "metadata": {},
   "source": [
    "idea："
   ]
  },
  {
   "cell_type": "code",
   "execution_count": 27,
   "metadata": {
    "ExecuteTime": {
     "end_time": "2025-05-07T12:37:29.493398500Z",
     "start_time": "2025-05-07T12:37:29.431324100Z"
    }
   },
   "outputs": [
    {
     "name": "stdout",
     "output_type": "stream",
     "text": [
      "3\n"
     ]
    }
   ],
   "source": [
    "# add your idea here\n",
    "# 使用动态规划解决\n",
    "def min_operations(x, y):\n",
    "    m = len(x)\n",
    "    n = len(y)\n",
    "    # 创建二维动态规划数组，dp[i][j]表示将x[:i]转换为y[:j]所需要的最少操作次数\n",
    "    dp = [[0] * (n + 1) for _ in range(m + 1)]\n",
    "    # 初始化边界条件\n",
    "    for i in range(m + 1):\n",
    "        dp[i][0] = i\n",
    "    for j in range(n + 1):\n",
    "        dp[0][j] = j\n",
    "\n",
    "    # 填充动态规划表\n",
    "    for i in range(1, m + 1):\n",
    "        for j in range(1, n + 1):\n",
    "            if x[i-1] == y[j-1]:\n",
    "                dp[i][j] = dp[i-1][j-1]\n",
    "            else:\n",
    "                dp[i][j] = min(\n",
    "                    dp[i-1][j],    # 删除操作\n",
    "                    dp[i][j-1],    # 插入操作\n",
    "                    dp[i-1][j-1]   # 替换操作\n",
    "                ) + 1\n",
    "    return dp[m][n]\n",
    "\n",
    "print(min_operations(\"horse\", \"ros\"))\n",
    "# your algorithm time complexity is: O(mn)"
   ]
  },
  {
   "cell_type": "code",
   "execution_count": null,
   "outputs": [],
   "source": [],
   "metadata": {
    "collapsed": false
   }
  }
 ],
 "metadata": {
  "language_info": {
   "name": "python"
  },
  "kernelspec": {
   "name": "python3",
   "language": "python",
   "display_name": "Python 3 (ipykernel)"
  }
 },
 "nbformat": 4,
 "nbformat_minor": 2
}
