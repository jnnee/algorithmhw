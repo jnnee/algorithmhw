{
 "cells": [
  {
   "cell_type": "markdown",
   "source": [
    "## algorithm design and anlysis-2025 spring  homework 1\n",
    "**Deadline**：2025.5.14\n",
    "\n",
    "**name**:\n",
    "\n",
    "\n",
    "note：\n",
    "---\n",
    "1. 带有\\*的题目，申请免上课的同学，必须完成，其他同学选作；\n",
    "2. 请独立完成，如求助了他人或者大模型，请著明，并且不可省略算法分析部分；\n",
    "4. 如若作答有雷同，全部取消成绩；\n",
    "3. 需要书面作答的题目，可以通过引用图片的形式添加，但是注意上传项目时包含所引用的图片的源文件；\n",
    "4. $log_n$ 默认表示$log_2{n}$;"
   ],
   "metadata": {
    "collapsed": false
   }
  },
  {
   "cell_type": "markdown",
   "source": [
    "## 问题 1\n",
    "\n",
    "对于下面的每一对表达式(A, B), A是否能表示为B的 $\\Theta, \\Omega ,O$形式. 请注意, 这些关系中的零个、一个或多个可能成立。列出所有正确的。经常发生一些学生会,把指示写错, 所以请把关系写完整, 例如: $A = O(B),  A =\\Theta(B)$, 或$A = \\Omega(B)$。\n",
    "\n",
    "1. $A=n^2-100n, B=n^2$\n",
    "2. $A=logn, B=log_{1.2}n$\n",
    "3. $A=3^{2n}, B=2^{4n}$\n",
    "4. $A=2^{logn}, B=n$\n",
    "5. $A=\\log{\\log}{n},B=10^{10^{100}}$"
   ],
   "metadata": {
    "collapsed": false
   }
  },
  {
   "cell_type": "markdown",
   "metadata": {},
   "source": [
    "can refer a handwritten picture, pleas upload the picture in /fig/xxx.png\n",
    "answer:\n",
    "![answer](./fig/hw1q1.jpg)\n"
   ]
  },
  {
   "cell_type": "code",
   "execution_count": null,
   "outputs": [],
   "source": [],
   "metadata": {
    "collapsed": false
   }
  },
  {
   "cell_type": "markdown",
   "source": [],
   "metadata": {
    "collapsed": false
   }
  },
  {
   "cell_type": "markdown",
   "metadata": {},
   "source": [
    "## 问题 2：\n",
    "\n",
    "假设有函数 $f$ 和 $g$ 使得 $f(n)$ = $O(g(n))$ 对于下面的每一个陈述, 请判断对错, 如果正确请给出证明, 否则请给出一个反例。\n",
    "\n",
    "1. $\\log{f(n)}$ = $O(\\log(1+g(n)))$\n",
    "2. $3^{f(n)}=O(3^{g(n)})$\n",
    "3. $(f(n))^2=O((g(n))^2)$ "
   ]
  },
  {
   "cell_type": "markdown",
   "metadata": {},
   "source": [
    "you can refer a handwritten picture, pleas upload the picture in /fig/xxx.png\n",
    "answer:![answer](./fig/hw1q2.jpg)"
   ]
  },
  {
   "cell_type": "markdown",
   "metadata": {},
   "source": [
    "## 问题 3\n",
    "\n",
    "根据下列递归公式, 计算下列 $T(n)$ 对应的的渐近上界。要求所求的边界尽可能的紧（tight）, 请写明步骤。\n",
    "\n",
    "1. $T(1)=1; T(n)=T(n/4)+1$ for $n>1$\n",
    "2. $T(1)=1;T(n)=3T(n/3)+n^2$ for $n>1$\n",
    "3. $T(1)=1;T(n)=T(2n/3)+1$ for $n>1$\n",
    "4. $T(1)=1;T(n)=5T(n/4)+n$ for $n>1$\n",
    "5. $T(n)=1 \\ for\\ n \\le 2 ; T(n)=T(\\sqrt{n})+1 \\ for \\ n>2$"
   ]
  },
  {
   "cell_type": "markdown",
   "metadata": {},
   "source": [
    "can refer a handwritten picture, pleas upload the picture in /fig/xxx.png\n",
    "answer:\n",
    "![answer](./fig/hw1q3.jpg)"
   ]
  },
  {
   "cell_type": "markdown",
   "metadata": {},
   "source": [
    "## 问题 4：\n",
    "\n",
    "给定一个包含n个元素的数组 `profits` , 它的第 `i` 个元素 `profits[i]` 表示一支股票第 `i` 天的**收益**（正数表示涨, 负数表示跌）。你只能选择 **某一天** 买入这只股票, 并选择在 **未来的某一个不同的日子** 卖出该股票。\n",
    "\n",
    "1. 设计一个算法来计算你所能获取的最大利润和对应买入和卖出的日期。请分析算法方案, 计算其时间复杂度, 并且使用python编程实现该算法。\n",
    "\n",
    "2. \\* 设计一个时间复杂度为 $O(n)$的算法实现该算法\n",
    "\n",
    "e.g. :\n",
    "---\n",
    "profits=[3,2,1,-7,5,2,-1,3,-1], 第5天买入, 第8天卖出, 收益最大：9\n",
    "\n"
   ]
  },
  {
   "cell_type": "markdown",
   "metadata": {},
   "source": [
    "idea:"
   ]
  },
  {
   "cell_type": "code",
   "execution_count": 1,
   "outputs": [
    {
     "name": "stdout",
     "output_type": "stream",
     "text": [
      "最大利润: 9, 买入日期: 5, 卖出日期: 8\n"
     ]
    }
   ],
   "source": [
    "#算法思路：\n",
    "# 计算每天的累计收益：假设初始资金为 0，每天的收益会影响总资金。例如，如果第一天收益为 3，第二天收益为 2，那么第二天结束后的总资金就是 3+2=5。\n",
    "# 寻找最佳买卖点：\n",
    "# 买入点：应该选择在累计收益尽可能低的时候买入（但必须在卖出点之前）。\n",
    "# 卖出点：应该选择在累计收益尽可能高的时候卖出，并且这个卖出点要在买入点之后。\n",
    "def max_profit_dates(profits):\n",
    "    n = len(profits)\n",
    "    if n == 0:\n",
    "        return 0, 0, 0  # 利润为0，买入和卖出日期都为0\n",
    "\n",
    "    # 计算累计收益数组\n",
    "    cumulative = [0] * (n + 1)\n",
    "    for i in range(1, n + 1):\n",
    "        cumulative[i] = cumulative[i - 1] + profits[i - 1]\n",
    "\n",
    "    max_profit = 0\n",
    "    buy_day = 0  # 买入日期，初始化为第0天\n",
    "    sell_day = 0  # 卖出日期，初始化为第0天\n",
    "    min_cumulative = cumulative[0]\n",
    "    min_day = 0  # 记录当前最小累计收益的日期\n",
    "\n",
    "    for i in range(1, n + 1):\n",
    "        current_profit = cumulative[i] - min_cumulative\n",
    "        if current_profit > max_profit:\n",
    "            max_profit = current_profit\n",
    "            buy_day = min_day + 1  # 因为min_day是累计收益数组的下标，对应的买入日期要+1\n",
    "            sell_day = i  # 累计收益数组的下标i对应实际的卖出日期i\n",
    "\n",
    "        # 更新最小累计收益和对应的日期\n",
    "        if cumulative[i] < min_cumulative:\n",
    "            min_cumulative = cumulative[i]\n",
    "            min_day = i\n",
    "\n",
    "    return max_profit, buy_day, sell_day\n",
    "profits = [3, 2, 1, -7, 5, 2, -1, 3, -1]\n",
    "max_profit, buy, sell = max_profit_dates(profits)\n",
    "print(f\"最大利润: {max_profit}, 买入日期: {buy}, 卖出日期: {sell}\")"
   ],
   "metadata": {
    "collapsed": false,
    "ExecuteTime": {
     "end_time": "2025-05-11T05:03:02.576989900Z",
     "start_time": "2025-05-11T05:03:02.562136300Z"
    }
   }
  },
  {
   "cell_type": "code",
   "execution_count": null,
   "metadata": {},
   "outputs": [],
   "source": [
    "# an algorithm with O(n)"
   ]
  },
  {
   "cell_type": "markdown",
   "metadata": {},
   "source": [
    "## 问题 5：\n",
    "\n",
    "观察下方的分治算法（divide-and-conquer algorithm）的伪代码, 回答下面问题\n",
    "\n",
    "```latex\n",
    "DoSomething(A,p,r)\n",
    "-----\n",
    "n := r-p+1\n",
    "if n=2 and A[p]>A[r] then\n",
    "    swap A[p] and A[r]\n",
    "else if n >= 3 then\n",
    "    m = ceil(2n/3)\n",
    "    DoSomething(A,p,p+m-1)\n",
    "    DoSomething(A,r-m+1,r)\n",
    "    DoSomething(A,p,p+m-1)  \n",
    "    \n",
    "---\n",
    "first call: DoSomething(A,1,n)\n",
    "```\n",
    "\n",
    "note：$ceil(2n/3)=\\left\\lceil {2n/3} \\right\\rceil$；$:=$ 表示赋值, 等价于 $\\to$；A是一个包含n的整数元素的数组, \n",
    "\n",
    "1. 写出该算法时间复杂度的递归公式, 并求解其对应的渐进表示\n",
    "2. 描述一下该算法的功能, 并判断是否是最高效的解决方案\n",
    "3. 使用python编程实现上述算法或其对应的更高效版本的算法\n"
   ]
  },
  {
   "cell_type": "markdown",
   "metadata": {},
   "source": [
    "idea："
   ]
  },
  {
   "cell_type": "markdown",
   "metadata": {},
   "source": [
    "answer:![answer](./fig/hw1q5.jpg)"
   ]
  },
  {
   "cell_type": "code",
   "execution_count": 18,
   "metadata": {
    "ExecuteTime": {
     "end_time": "2025-05-09T07:15:37.001880100Z",
     "start_time": "2025-05-09T07:15:36.969413Z"
    }
   },
   "outputs": [
    {
     "name": "stdout",
     "output_type": "stream",
     "text": [
      "1\n",
      "5\n",
      "7\n",
      "8\n",
      "9\n",
      "10\n"
     ]
    }
   ],
   "source": [
    "# add your code here\n",
    "\n",
    "3.#快速排序\n",
    "\"\"\"\n",
    "算法分析：\n",
    "1.选择数列中最后一个元素作为基准值，\n",
    "2.重新排序数列，所有元素比基准值小的摆放在基准前面，所有元素比基准值大的摆在基准的后面（相同的数可以到任一边）。在这个分区结束之后，该基准就处于数列的中间位置。这个称为分区（partition）操作。\n",
    "3.递归地把小于基准值元素的子数列和大于基准值元素的子数列排序。\n",
    "\"\"\"\n",
    "def partition(arr, low, high):\n",
    "    i = (low - 1) # 最小元素索引\n",
    "    pivot = arr[high] # 选择最后一个元素作为基准值\n",
    "\n",
    "    for j in range(low, high):\n",
    "    # 当前元素小于或等于pivot\n",
    "        if arr[j] <= pivot:\n",
    "            i = i + 1\n",
    "            arr[i], arr[j] = arr[j], arr[i]\n",
    "\n",
    "    arr[i + 1], arr[high] = arr[high], arr[i + 1]\n",
    "    return (i + 1)\n",
    "\n",
    "# 快速排序函数\n",
    "def quickSort(arr, low, high):\n",
    "    if low < high:\n",
    "        pi = partition(arr, low, high) # 获取分区后基准值的索引\n",
    "        quickSort(arr, low, pi - 1) # 递归排序基准值左边的子列表\n",
    "        quickSort(arr, pi + 1, high) # 递归排序基准值右边的子列表\n",
    "\n",
    "# 测试快速排序\n",
    "arr = [10, 7, 8, 9, 1, 5]\n",
    "n = len(arr)\n",
    "quickSort(arr, 0, n - 1)\n",
    "for i in range(n):\n",
    "    print(\"%d\" % arr[i])\n",
    "# your algorithm time complexity is :"
   ]
  },
  {
   "cell_type": "markdown",
   "metadata": {},
   "source": [
    "## 问题 6：\n",
    "\n",
    "给定一个大小为 `n` 的数组 `nums` , 返回其中的多数元素。多数元素是指在数组中出现次数 **大于** `⌊ n/2 ⌋` 的元素。\n",
    "\n",
    "你可以假设数组是非空的, 并且给定的数组总是存在多数元素。\n",
    "\n",
    "1. 设计一个算法找到给定数组的多数元素, 分析算法设计思路, 计算算法时间复杂度, 使用python编程实现\n",
    "2. \\* 设计时间复杂度为 O(n)、空间复杂度为 O(1) 的算法解决此问题, 分析算法设计思路, 使用python编程实现\n",
    "\n",
    "e.g.:\n",
    "---\n",
    "1. nums=[3,2,3], 返回3\n",
    "2. nums=[2,2,1,1,1,2,2], 返回2\n"
   ]
  },
  {
   "cell_type": "markdown",
   "metadata": {},
   "source": [
    "idea："
   ]
  },
  {
   "cell_type": "code",
   "execution_count": 8,
   "metadata": {
    "ExecuteTime": {
     "end_time": "2025-05-07T03:11:08.914165400Z",
     "start_time": "2025-05-07T03:11:08.870019700Z"
    }
   },
   "outputs": [
    {
     "name": "stdout",
     "output_type": "stream",
     "text": [
      "多数元素有： 2\n"
     ]
    }
   ],
   "source": [
    "# add your code here\n",
    "\"\"\"\n",
    "设计思路：\n",
    "1.外层循环遍历数组中的每个元素 i。\n",
    "2.内层循环对当前元素 tep = list[i-1] 进行遍历，统计其元素出现次数 count。\n",
    "3.若 count > n//2，则返回该元素；否则将count置为0，继续遍历下一个元素。\n",
    "\"\"\"\n",
    "def mutil_nums(list):\n",
    "    n = len(list)\n",
    "    if n<1:\n",
    "        return None#保证非空\n",
    "    for i in list:\n",
    "        count=0\n",
    "        tep=list[i-1]#获取当前元素\n",
    "        for j in list:\n",
    "            if tep==list[j-1]:\n",
    "                count+=1\n",
    "        if count>n//2:\n",
    "            return tep\n",
    "\n",
    "num=mutil_nums([2,2,1,1,1,2,2])\n",
    "print(\"多数元素有：\",num)\n",
    "# your algorithm time complexity is :"
   ]
  },
  {
   "cell_type": "markdown",
   "metadata": {},
   "source": [
    "idea for 2\\*："
   ]
  },
  {
   "cell_type": "code",
   "execution_count": null,
   "metadata": {
    "is_executing": true,
    "ExecuteTime": {
     "start_time": "2025-05-11T05:51:54.120632800Z"
    }
   },
   "outputs": [],
   "source": [
    "# algorithm time complexity：O(n), space complexity:O(1)\n",
    "#\n",
    "\"\"\"通过“投票”机制抵消不同元素,假设多数元素为 m，其出现次数为 k，且 k > n/2。其他元素总数为 n - k < k。因此，在遍历过程中，m 的投票数不会被完全抵消，最终 candidate 必为 m。\"\"\"\n",
    "def mutil_nums(nums):\n",
    "    candidate = None\n",
    "    count = 0\n",
    "    for num in nums:\n",
    "        if count == 0:\n",
    "            candidate = num\n",
    "        count += 1 if num == candidate else -1\n",
    "    return candidate\n",
    "\n",
    "print(mutil_nums([3, 2, 3]))\n",
    "# add your code here"
   ]
  },
  {
   "cell_type": "markdown",
   "metadata": {},
   "source": [
    "## 问题 7：\n",
    "\n",
    "给定一个包含不同整数元素的数组 $ A[1..n]$ ,并且满足条件：$A[1]>A[2]$ 并且 $A[n-1]<A[n]$; 规定：如果一个元素比它两边的邻居元素都小, 即：$A[x]<A[x-1], A[x]<A[x+1]$ , 称这个元素A[x]为“局部最小”。通过遍历一次数组, 我们可以很容易在 $O(n)$的时间复杂度下找到一个局部最小值, \n",
    "\n",
    "\n",
    "1. 分析该问题, 设计一个算法在$O(logn)$的时间复杂度下找到一个局部最小(返回数值), 要求：分析算法设计思路, 并且使用python编程实现\n",
    "2. \\* 设计算法找出所有局部最小值, 分析算法设计思路, 并使用python编程实现\n",
    "\n",
    "e.g.:\n",
    "---\n",
    "A=[9, 3, 7, 2, 1, 4, 5 ] 时,  局部最小元素为 3, 1\n"
   ]
  },
  {
   "cell_type": "markdown",
   "metadata": {},
   "source": [
    "idea："
   ]
  },
  {
   "cell_type": "code",
   "execution_count": 10,
   "metadata": {
    "ExecuteTime": {
     "end_time": "2025-05-07T06:20:02.533529Z",
     "start_time": "2025-05-07T06:20:02.490535800Z"
    }
   },
   "outputs": [
    {
     "name": "stdout",
     "output_type": "stream",
     "text": [
      "局部最小元素为： 1\n",
      "1\n"
     ]
    }
   ],
   "source": [
    "# add your code here\n",
    "\"\"\"问题1\"\"\"\n",
    "#首尾元素不满足局部最小，且数组首部呈下降趋势，尾部呈上升趋势，中间必存在拐点。又根据题目要求的时间复杂度与题目内容，可以使用二分查找，二分法的核心思想是通过每次选取中间元素，并比较中间元素与相邻元素的大小关系来缩小搜索范围。\n",
    "# 若 arr[mid] 是局部最小，直接返回\n",
    "# 若 arr[mid] > arr[mid-1]，则左半部分必存在局部最小\n",
    "# 若 arr[mid] > arr[mid+1]，则右半部分必存在局部最小\n",
    "def local_min(arr):\n",
    "    n = len(arr)\n",
    "    #处理特殊情况\n",
    "    if n <= 2:\n",
    "        return None\n",
    "    left, right = 0, n - 1\n",
    "    while left <= right:\n",
    "        mid = (left + right) // 2\n",
    "        if mid == 0 or mid == n - 1:\n",
    "            break  # 排除\n",
    "        # 判断局部最小条件\n",
    "        if arr[mid] < arr[mid-1] and arr[mid] < arr[mid+1]:\n",
    "            print(\"局部最小元素为：\",arr[mid])\n",
    "            return arr[mid]\n",
    "\n",
    "        # 选择搜索方向\n",
    "        if arr[mid] > arr[mid-1]:#超过拐点\n",
    "            right = mid - 1\n",
    "        else:#未经过拐点\n",
    "            left = mid + 1\n",
    "\n",
    "arr = [9, 3, 7, 2, 1, 4, 5 ]\n",
    "print(local_min(arr))\n",
    "# your algorithm time complexity is\n",
    "\"\"\"时间复杂度未O(logn)\"\"\""
   ]
  },
  {
   "cell_type": "markdown",
   "metadata": {},
   "source": [
    "idea:"
   ]
  },
  {
   "cell_type": "code",
   "execution_count": 12,
   "metadata": {
    "ExecuteTime": {
     "end_time": "2025-05-07T06:29:28.679737200Z",
     "start_time": "2025-05-07T06:29:28.674213500Z"
    }
   },
   "outputs": [
    {
     "name": "stdout",
     "output_type": "stream",
     "text": [
      "[3, 1]\n"
     ]
    }
   ],
   "source": [
    "# add your code here\n",
    "\"\"\"问题2分析思路：\n",
    "查找局部最小值的方法主要有二分法和遍历法，二分法并不适用于找出所有局部最小值，所以采用遍历法输出所有局部最小值\n",
    "\n",
    "\"\"\"\n",
    "def all_local_min(arr):\n",
    "    minima = []\n",
    "    n = len(arr)\n",
    "\n",
    "    # 排除首尾元素，处理中间元素\n",
    "    for i in range(1, n-1):\n",
    "        if arr[i] < arr[i-1] and arr[i] < arr[i+1]:\n",
    "            minima.append(arr[i])\n",
    "\n",
    "\n",
    "    return minima\n",
    "\n",
    "arr = [9, 3, 7, 2, 1, 4, 5 ]\n",
    "print(all_local_min(arr))\n",
    "# your algorithm time complexity is :\n",
    "\"\"\"时间复杂度为O(n)\"\"\""
   ]
  },
  {
   "cell_type": "markdown",
   "metadata": {},
   "source": [
    "## 问题 8：\n",
    "\n",
    "给定包含n个不同数字的一组数, 寻找一种基于比较的算法在这组数中找到k个最小的数字, 并按顺序输出它们。\n",
    "\n",
    "1. 将n个数先进行排序, 然后按顺序输出最小的k个数。要求：选择合适的排序算法实现上述操作, 计算算法时间复杂度, 并使用python编程实现。\n",
    "2. 建立一个包含这n个数的堆（heap）, 并且调用 k 次Extract-min 按顺序输出最小的k个数。使用往空堆中不断插入元素的方法建立堆, 分析这种方法建堆的时间复杂度, 并使用python编程实现\n",
    "3. \\* 假设数组中包含的数据总数目超过了计算机的存储能力, 请设计一个算法, 找到这堆数据的前k小的数值, 计算时间复杂度, 并使用python实现该算法, 假设计算机一定能存储k个数据。\n",
    "\n",
    "e.g.：\n",
    "---\n",
    "数组arr=[5,4,3,2,6,1,88,33,22,107] 的前3个最小数据为：1, 2, 3\n"
   ]
  },
  {
   "cell_type": "markdown",
   "metadata": {},
   "source": [
    "idea："
   ]
  },
  {
   "cell_type": "code",
   "execution_count": 1,
   "metadata": {
    "ExecuteTime": {
     "end_time": "2025-05-11T07:25:58.387381400Z",
     "start_time": "2025-05-11T07:25:58.345981700Z"
    }
   },
   "outputs": [
    {
     "name": "stdout",
     "output_type": "stream",
     "text": [
      "[1, 2, 3]\n"
     ]
    }
   ],
   "source": [
    "# add your code here\n",
    "\"\"\"问题一：使用冒泡排序，时间复杂度为O(n2)\"\"\"\n",
    "def bubble_sort(arr,k):\n",
    "    n = len(arr)\n",
    "    for i in range(n):\n",
    "        for j in range(0, n-i-1):\n",
    "            if arr[j] > arr[j+1] :\n",
    "                arr[j], arr[j+1] = arr[j+1], arr[j]\n",
    "    return arr[:k]\n",
    "arr = [5,4,3,2,6,1,88,33,22,107]\n",
    "print(bubble_sort(arr,3))\n",
    "# your algorithm time complexity is :"
   ]
  },
  {
   "cell_type": "code",
   "execution_count": 3,
   "outputs": [
    {
     "name": "stdout",
     "output_type": "stream",
     "text": [
      "最小的3个数：[1, 2, 3]\n"
     ]
    }
   ],
   "source": [
    "\"\"\"问题二：堆排序，建堆的时间复杂度为O(nlogn)\"\"\"\n",
    "class MinHeap:\n",
    "    def __init__(self):\n",
    "        self.heap = []  # 存储堆元素的列表\n",
    "\n",
    "    def parent(self, i):\n",
    "        return (i - 1) // 2\n",
    "\n",
    "    def left_child(self, i):\n",
    "        return 2 * i + 1\n",
    "\n",
    "    def right_child(self, i):\n",
    "        return 2 * i + 2\n",
    "\n",
    "    def insert(self, key):\n",
    "        # 插入元素到堆尾，然后向上调整\n",
    "        self.heap.append(key)\n",
    "        i = len(self.heap) - 1\n",
    "        while i > 0 and self.heap[self.parent(i)] > self.heap[i]:\n",
    "            self.heap[i], self.heap[self.parent(i)] = self.heap[self.parent(i)], self.heap[i]\n",
    "            i = self.parent(i)\n",
    "\n",
    "    def extract_min(self):\n",
    "        # 提取最小值（堆顶），然后调整堆\n",
    "        if len(self.heap) == 0:\n",
    "            return None\n",
    "        if len(self.heap) == 1:\n",
    "            return self.heap.pop()\n",
    "\n",
    "        root = self.heap[0]\n",
    "        self.heap[0] = self.heap.pop()  # 将最后一个元素移到堆顶\n",
    "        self.min_heapify(0)  # 向下调整\n",
    "        return root\n",
    "\n",
    "    def min_heapify(self, i):\n",
    "        # 向下调整堆，维护最小堆性质\n",
    "        left = self.left_child(i)\n",
    "        right = self.right_child(i)\n",
    "        smallest = i\n",
    "\n",
    "        if left < len(self.heap) and self.heap[left] < self.heap[i]:\n",
    "            smallest = left\n",
    "        if right < len(self.heap) and self.heap[right] < self.heap[smallest]:\n",
    "            smallest = right\n",
    "\n",
    "        if smallest != i:\n",
    "            self.heap[i], self.heap[smallest] = self.heap[smallest], self.heap[i]\n",
    "            self.min_heapify(smallest)\n",
    "\n",
    "def heap_sort_k(arr, k):\n",
    "    heap = MinHeap()\n",
    "    # 逐个插入元素构建堆\n",
    "    for num in arr:\n",
    "        heap.insert(num)\n",
    "    # 提取最小的k个数\n",
    "    result = []\n",
    "    for _ in range(min(k, len(arr))):\n",
    "        result.append(heap.extract_min())\n",
    "    return result\n",
    "\n",
    "\n",
    "arr = [5,4,3,2,6,1,88,33,22,107]\n",
    "k = 3\n",
    "print(f\"最小的{k}个数：{heap_sort_k(arr, k)}\")"
   ],
   "metadata": {
    "collapsed": false,
    "ExecuteTime": {
     "end_time": "2025-05-11T07:28:21.466459700Z",
     "start_time": "2025-05-11T07:28:21.424660500Z"
    }
   }
  },
  {
   "cell_type": "code",
   "execution_count": 4,
   "outputs": [
    {
     "name": "stdout",
     "output_type": "stream",
     "text": [
      "[1, 2, 3]\n"
     ]
    }
   ],
   "source": [
    "\"\"\"问题三：最大堆策略适用于数据量超过内存的场景，仅需保存 k 个元素。最大堆的优势：堆顶是当前堆中的最大值。若新元素比堆顶小，说明它属于前 k 小元素，直接替换堆顶并调整堆，保证堆中始终是当前最小的 k 个元素。\"\"\"\n",
    "import heapq\n",
    "def find_k_smallest_large_data(data_stream, k):\n",
    "    if k == 0:\n",
    "        return []\n",
    "    heap = []\n",
    "    for num in data_stream:\n",
    "        if len(heap) < k:\n",
    "            heapq.heappush(heap, -num)  # 维护最大堆（通过取负数模拟）\n",
    "        else:\n",
    "            if num < -heap[0]:  # 当前元素比堆顶小\n",
    "                heapq.heappop(heap)\n",
    "                heapq.heappush(heap, -num)\n",
    "    # 提取并排序结果\n",
    "    sorted_result = [-x for x in heap]\n",
    "    sorted_result.sort()\n",
    "    return sorted_result\n",
    "arr = [5,4,3,2,6,1,88,33,22,107]\n",
    "print(find_k_smallest_large_data(arr,3))"
   ],
   "metadata": {
    "collapsed": false,
    "ExecuteTime": {
     "end_time": "2025-05-11T07:31:07.539564200Z",
     "start_time": "2025-05-11T07:31:07.496513700Z"
    }
   }
  },
  {
   "cell_type": "markdown",
   "metadata": {},
   "source": [
    "## 问题 9：\n",
    "\n",
    "**选择问题**:给定一个包含n个未排序值的数组A和一个$k≤n$的整数, 返回A中最小的第k项。\n",
    "\n",
    "在课堂上, 学了一个简单的O(n)随机算法来解决选择问题。事实上还有一种更复杂的最坏情况下时间复杂度为$O(n)$ 的选择算法。假设使用一个黑盒过程来实现这个O(n)选择算法: 给定一个数组A、 $p < r$ 和 k,  $BB(A, p, r, k)$ 可以在$O(r−p+ 1)$时间内找到并报告$A[p..r]$中第k小的项的下标。假设你可以在线性时间内处理Partition过程。\n",
    "\n",
    "1. 请分析如何修改 Quicksork 算法可以使其最差情况下的运行时间为 $O(nlogn)$, 使用伪代码实现, 并分析为何修改后的版本最差情况的运行时间为$O(nlogn)$\n",
    "\n",
    "note: 伪代码中, 你可以直接调用用` BB(A,p,r,k)`这个函数用于表示在最坏情况下时间复杂度为$O(n)$的选择算法；\n",
    "\n",
    "\n",
    "\n",
    "2. 找到一个更好的算法报告数组A中的前k小的项, 使用伪代码表示你的算法, 并分析你算法的时间复杂度。\n",
    "\n",
    "举例：A=[13, 3, 7, 9, 11, 1, 15, 2, 8, 10, 12, 16, 14, 5], 当k=4时, 应该报告1, 2, 3, 4\n",
    "\n",
    "note： 最直观的方法就是先将数组A排序, 然后从左向右报告其前k项, 这样操作的时间复杂度为$O(nlogn)$. 调用用` BB(A,p,r,k)`设计一个算法使其报告无序数组A的前k项, 满足时间复杂度好于$\\Theta(nlogn)$, 并且当$k=\\sqrt{n}$时, 你设计的算法时间复杂度应该为$\\Theta(n)$.\n",
    "\n",
    "\n",
    "\n",
    "3. 给定一个大小为n的数组, 找到一个 时间复杂度为$O(n log k)$ 的算法, 该算法将A中的元素重新排序, 使它们被划分为k个部分, 每个部分的元素小于或等于下一部分的元素。假设n和k都是2的幂。使用伪代码表示你的算法, 并分析时间复杂度。\n",
    "\n",
    "e.g.:\n",
    "---\n",
    "数组：[1,  3,  5,  7,  9,  11,  13,  15,  2,  4,  6,  8,  10,  12,  16,  14], k=4, \n",
    "\n",
    "对应重新排序的数组为：[1,  3,  2,  4]  [7,  6,  5,  8]  [12,  11,  10,  9]  [13,  14,  16,  15]\n",
    "\n",
    "\n"
   ]
  },
  {
   "cell_type": "markdown",
   "metadata": {},
   "source": [
    "idea："
   ]
  },
  {
   "cell_type": "code",
   "execution_count": null,
   "metadata": {},
   "outputs": [],
   "source": [
    "# add your pseudo-code here\n",
    "\"\"\"问题1：黑盒选择的最坏时间复杂度是0(n),而快速排序的递归计算的时间复杂度为O(logn)，如果使用黑盒方法选择pivot，则可以实现最坏时间复杂度为O(nlogn)\"\"\"\n",
    "ModifiedQuickSort(A, p, r, k):\n",
    "    if (r - p + 1) <= 1:\n",
    "        return\n",
    "    # 使用黑盒选择算法找到当前子数组的中位数下标\n",
    "    median_idx = BB(A, p, r, (r - p + 1) // 2)\n",
    "    # 将中位数交换到末尾作为 pivot\n",
    "    swap(A[median_idx], A[r])\n",
    "    q = Partition(A, p, r)  # 线性时间划分\n",
    "    # 递归处理左半部分和右半部分\n",
    "    ModifiedQuickSort(A, p, q-1, k)\n",
    "    ModifiedQuickSort(A, q+1, r, k)\n"
   ]
  },
  {
   "cell_type": "code",
   "execution_count": null,
   "outputs": [],
   "source": [
    "\"\"\"问题2：\n",
    "算法流程：\n",
    "找到第 k小元素：调用黑盒算法 BB(A, 0, n-1, k) 确定阈值。时间复杂度为0(n)\n",
    "收集前 k小元素：遍历数组收集所有 ≤该阈值的元素。时间复杂度为0(n)\n",
    "排序前 k小元素：对收集的元素进行排序，快速排序时间复杂度为0(klogk)\n",
    "总时间复杂度为0(n+klogk)\"\"\"\n",
    "FindTopK(A, k):\n",
    "    if k == 0:\n",
    "        return []\n",
    "    # 找到第 k 小的元素值\n",
    "    n=len(A)\n",
    "    threshold = A[BB(A, 0, n-1, k)]\n",
    "    # 收集所有 ≤ threshold 的元素\n",
    "    candidates = []\n",
    "    for num in A:\n",
    "        if num <= threshold:\n",
    "            candidates.append(num)\n",
    "    # 对候选元素排序并取前 k 个\n",
    "    sort(candidates)\n",
    "    return candidates[:k]"
   ],
   "metadata": {
    "collapsed": false
   }
  },
  {
   "cell_type": "code",
   "execution_count": null,
   "outputs": [],
   "source": [
    "\"\"\"问题3：将n个元素化为k个部分，则每个部分有n/k个元素，n,k都为2的幂，可以利用黑盒递归选择中位数，在对各个部分进行排序\"\"\"\n",
    "PartitionKBlocks(A, p, r, k):\n",
    "    if k == 1:\n",
    "        return\n",
    "    # 将当前数组划分为两个大小相等的块\n",
    "    mid_idx = BB(A, p, r, (r - p + 1) // 2)\n",
    "    swap(A[mid_idx], A[r])#为了符合标准Partition中pivot的位置\n",
    "    q = Partition(A, p, r)\n",
    "    # 递归处理左半部分和右半部分\n",
    "    PartitionKBlocks(A, p, q-1, k/2)\n",
    "    PartitionKBlocks(A, q+1, r, k/2)\n"
   ],
   "metadata": {
    "collapsed": false
   }
  },
  {
   "cell_type": "markdown",
   "metadata": {},
   "source": [
    "## 问题 10：\n",
    "\n",
    "给定一个包含m个**字符串**的数组A, 其中不同的字符串可能有不同的字符数, 但数组中所有字符串的字符总数为n。设计一个算法在 $O(n)$ 时间内对字符串进行排序, 分析算法设计方案, 计算其时间复杂度, 并基于python编程实现该算法。请注意, 假设字符串只包含\"a\",\"b\",...,\"z\", \n",
    "\n",
    "\n",
    "\n",
    "举例1：数组A=[\"a\", \"da\", \"bde\", \"ab\", \"bc\", \"abdc\", \"cdba\"], 排序后的数组应该为：['a', 'ab', 'abdc', 'bc', 'bde', 'cdba', 'da']\n",
    "\n",
    "\n",
    "\n",
    "举例2：数组A=['ab', 'a', 'b', 'abc', 'ba', 'c'], 排序后的数组应该为：\n",
    "\n",
    "['a', 'ab', 'abc', 'b', 'ba', 'c']\n",
    "\n",
    "\n",
    "\n",
    "举例3：数组A=['aef', 'yzr', 'wr', 'ab', 'bhjc', 'lkabdc', 'pwcdba'],  排序后的数组应该为：['ab', 'aef', 'bhjc', 'lkabdc', 'pwcdba', 'wr', 'yzr']\n",
    "\n",
    "\n",
    "\n",
    "note：\n",
    "\n",
    "-  两个字符之间的比较可以考虑比较他们对应的ASCII码值；\n",
    "- python中可以使用`ord(\"a\")`返回字符 “a”对应的ASCII值"
   ]
  },
  {
   "cell_type": "markdown",
   "metadata": {},
   "source": [
    "idea:"
   ]
  },
  {
   "cell_type": "code",
   "execution_count": 6,
   "metadata": {
    "ExecuteTime": {
     "end_time": "2025-05-11T07:35:47.181551100Z",
     "start_time": "2025-05-11T07:35:47.168496900Z"
    }
   },
   "outputs": [
    {
     "name": "stdout",
     "output_type": "stream",
     "text": [
      "['ab', 'aef', 'bhjc', 'lkabdc', 'pwcdba', 'wr', 'yzr']\n"
     ]
    }
   ],
   "source": [
    "# add your code here\n",
    "\"\"\"根据每个字符串的第d位置的字符大小把字符串放入对应字母的桶中，根据桶的序号排一个大小；如果字符串长度小于d，将字符串放入0号桶；再递归处理其他桶中的字符串\"\"\"\n",
    "def sort_strings(A):\n",
    "    def msd_sort(strings, d):\n",
    "        if len(strings) <= 1:\n",
    "            return strings\n",
    "        # 创建27个桶，0号桶存放长度<=d的字符串，1-26号桶对应a-z\n",
    "        buckets = [[] for _ in range(27)]\n",
    "        for s in strings:\n",
    "            if len(s) <= d:\n",
    "                buckets[0].append(s)\n",
    "            else:\n",
    "                char = s[d]\n",
    "                idx = ord(char) - ord('a') + 1  # 将字符转换为对应的桶索引\n",
    "                buckets[idx].append(s)\n",
    "        # 先收集终止桶中的字符串，无需递归处理\n",
    "        result = buckets[0].copy()\n",
    "        # 递归处理其他桶\n",
    "        for i in range(1, 27):\n",
    "            if buckets[i]:\n",
    "                sorted_bucket = msd_sort(buckets[i], d + 1)\n",
    "                result.extend(sorted_bucket)\n",
    "        return result\n",
    "    return msd_sort(A, 0)\n",
    "# 示例测试\n",
    "A = ['aef', 'yzr', 'wr', 'ab', 'bhjc', 'lkabdc', 'pwcdba']\n",
    "print(sort_strings(A))\n",
    "# your algorithm time complexity is :\n",
    "#时间复杂度为0(n)"
   ]
  },
  {
   "cell_type": "code",
   "execution_count": null,
   "outputs": [],
   "source": [],
   "metadata": {
    "collapsed": false
   }
  }
 ],
 "metadata": {
  "language_info": {
   "name": "python"
  },
  "kernelspec": {
   "name": "python3",
   "language": "python",
   "display_name": "Python 3 (ipykernel)"
  }
 },
 "nbformat": 4,
 "nbformat_minor": 2
}
